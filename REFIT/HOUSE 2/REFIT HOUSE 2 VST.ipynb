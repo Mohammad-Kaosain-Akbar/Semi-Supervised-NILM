{
 "cells": [
  {
   "cell_type": "code",
   "execution_count": 1,
   "id": "ce7ce427",
   "metadata": {},
   "outputs": [],
   "source": [
    "import numpy as np\n",
    "import pandas as pd\n",
    "import matplotlib.pyplot as plt\n",
    "%matplotlib inline\n",
    "from IPython.display import display\n",
    "import datetime\n",
    "import time\n",
    "import math\n",
    "import warnings\n",
    "warnings.filterwarnings(\"ignore\")\n",
    "import glob\n",
    "from sklearn.cluster import KMeans"
   ]
  },
  {
   "cell_type": "code",
   "execution_count": 2,
   "id": "19fa5173",
   "metadata": {},
   "outputs": [],
   "source": [
    "df = pd.read_csv('House2.csv')\n"
   ]
  },
  {
   "cell_type": "code",
   "execution_count": 3,
   "id": "04abd145",
   "metadata": {},
   "outputs": [
    {
     "data": {
      "text/html": [
       "<div>\n",
       "<style scoped>\n",
       "    .dataframe tbody tr th:only-of-type {\n",
       "        vertical-align: middle;\n",
       "    }\n",
       "\n",
       "    .dataframe tbody tr th {\n",
       "        vertical-align: top;\n",
       "    }\n",
       "\n",
       "    .dataframe thead th {\n",
       "        text-align: right;\n",
       "    }\n",
       "</style>\n",
       "<table border=\"1\" class=\"dataframe\">\n",
       "  <thead>\n",
       "    <tr style=\"text-align: right;\">\n",
       "      <th></th>\n",
       "      <th>1379455690</th>\n",
       "      <th>695</th>\n",
       "      <th>88</th>\n",
       "      <th>0</th>\n",
       "      <th>0.1</th>\n",
       "      <th>0.2</th>\n",
       "      <th>0.3</th>\n",
       "      <th>0.4</th>\n",
       "      <th>0.5</th>\n",
       "      <th>0.6</th>\n",
       "      <th>0.7</th>\n",
       "      <th>Time</th>\n",
       "    </tr>\n",
       "  </thead>\n",
       "  <tbody>\n",
       "    <tr>\n",
       "      <th>0</th>\n",
       "      <td>1379455698</td>\n",
       "      <td>694</td>\n",
       "      <td>88</td>\n",
       "      <td>0</td>\n",
       "      <td>0</td>\n",
       "      <td>0</td>\n",
       "      <td>0</td>\n",
       "      <td>0</td>\n",
       "      <td>0</td>\n",
       "      <td>0</td>\n",
       "      <td>0</td>\n",
       "      <td>2013-09-17 22:08:18</td>\n",
       "    </tr>\n",
       "    <tr>\n",
       "      <th>1</th>\n",
       "      <td>1379455705</td>\n",
       "      <td>694</td>\n",
       "      <td>88</td>\n",
       "      <td>0</td>\n",
       "      <td>0</td>\n",
       "      <td>0</td>\n",
       "      <td>0</td>\n",
       "      <td>0</td>\n",
       "      <td>0</td>\n",
       "      <td>0</td>\n",
       "      <td>0</td>\n",
       "      <td>2013-09-17 22:08:25</td>\n",
       "    </tr>\n",
       "    <tr>\n",
       "      <th>2</th>\n",
       "      <td>1379455714</td>\n",
       "      <td>702</td>\n",
       "      <td>88</td>\n",
       "      <td>0</td>\n",
       "      <td>0</td>\n",
       "      <td>0</td>\n",
       "      <td>0</td>\n",
       "      <td>0</td>\n",
       "      <td>0</td>\n",
       "      <td>0</td>\n",
       "      <td>0</td>\n",
       "      <td>2013-09-17 22:08:34</td>\n",
       "    </tr>\n",
       "    <tr>\n",
       "      <th>3</th>\n",
       "      <td>1379455722</td>\n",
       "      <td>700</td>\n",
       "      <td>88</td>\n",
       "      <td>0</td>\n",
       "      <td>0</td>\n",
       "      <td>0</td>\n",
       "      <td>0</td>\n",
       "      <td>0</td>\n",
       "      <td>0</td>\n",
       "      <td>0</td>\n",
       "      <td>0</td>\n",
       "      <td>2013-09-17 22:08:42</td>\n",
       "    </tr>\n",
       "    <tr>\n",
       "      <th>4</th>\n",
       "      <td>1379455729</td>\n",
       "      <td>702</td>\n",
       "      <td>88</td>\n",
       "      <td>0</td>\n",
       "      <td>0</td>\n",
       "      <td>0</td>\n",
       "      <td>0</td>\n",
       "      <td>0</td>\n",
       "      <td>0</td>\n",
       "      <td>0</td>\n",
       "      <td>0</td>\n",
       "      <td>2013-09-17 22:08:49</td>\n",
       "    </tr>\n",
       "    <tr>\n",
       "      <th>5</th>\n",
       "      <td>1379455737</td>\n",
       "      <td>696</td>\n",
       "      <td>88</td>\n",
       "      <td>0</td>\n",
       "      <td>0</td>\n",
       "      <td>0</td>\n",
       "      <td>0</td>\n",
       "      <td>0</td>\n",
       "      <td>0</td>\n",
       "      <td>0</td>\n",
       "      <td>0</td>\n",
       "      <td>2013-09-17 22:08:57</td>\n",
       "    </tr>\n",
       "    <tr>\n",
       "      <th>6</th>\n",
       "      <td>1379455746</td>\n",
       "      <td>696</td>\n",
       "      <td>88</td>\n",
       "      <td>0</td>\n",
       "      <td>0</td>\n",
       "      <td>0</td>\n",
       "      <td>0</td>\n",
       "      <td>0</td>\n",
       "      <td>0</td>\n",
       "      <td>0</td>\n",
       "      <td>0</td>\n",
       "      <td>2013-09-17 22:09:06</td>\n",
       "    </tr>\n",
       "    <tr>\n",
       "      <th>7</th>\n",
       "      <td>1379455750</td>\n",
       "      <td>691</td>\n",
       "      <td>87</td>\n",
       "      <td>0</td>\n",
       "      <td>0</td>\n",
       "      <td>0</td>\n",
       "      <td>0</td>\n",
       "      <td>0</td>\n",
       "      <td>0</td>\n",
       "      <td>0</td>\n",
       "      <td>0</td>\n",
       "      <td>2013-09-17 22:09:10</td>\n",
       "    </tr>\n",
       "    <tr>\n",
       "      <th>8</th>\n",
       "      <td>1379455753</td>\n",
       "      <td>701</td>\n",
       "      <td>88</td>\n",
       "      <td>0</td>\n",
       "      <td>0</td>\n",
       "      <td>0</td>\n",
       "      <td>0</td>\n",
       "      <td>0</td>\n",
       "      <td>0</td>\n",
       "      <td>0</td>\n",
       "      <td>0</td>\n",
       "      <td>2013-09-17 22:09:13</td>\n",
       "    </tr>\n",
       "    <tr>\n",
       "      <th>9</th>\n",
       "      <td>1379455759</td>\n",
       "      <td>703</td>\n",
       "      <td>88</td>\n",
       "      <td>0</td>\n",
       "      <td>0</td>\n",
       "      <td>0</td>\n",
       "      <td>0</td>\n",
       "      <td>0</td>\n",
       "      <td>0</td>\n",
       "      <td>0</td>\n",
       "      <td>0</td>\n",
       "      <td>2013-09-17 22:09:19</td>\n",
       "    </tr>\n",
       "  </tbody>\n",
       "</table>\n",
       "</div>"
      ],
      "text/plain": [
       "   1379455690  695  88  0  0.1  0.2  0.3  0.4  0.5  0.6  0.7  \\\n",
       "0  1379455698  694  88  0    0    0    0    0    0    0    0   \n",
       "1  1379455705  694  88  0    0    0    0    0    0    0    0   \n",
       "2  1379455714  702  88  0    0    0    0    0    0    0    0   \n",
       "3  1379455722  700  88  0    0    0    0    0    0    0    0   \n",
       "4  1379455729  702  88  0    0    0    0    0    0    0    0   \n",
       "5  1379455737  696  88  0    0    0    0    0    0    0    0   \n",
       "6  1379455746  696  88  0    0    0    0    0    0    0    0   \n",
       "7  1379455750  691  87  0    0    0    0    0    0    0    0   \n",
       "8  1379455753  701  88  0    0    0    0    0    0    0    0   \n",
       "9  1379455759  703  88  0    0    0    0    0    0    0    0   \n",
       "\n",
       "                 Time  \n",
       "0 2013-09-17 22:08:18  \n",
       "1 2013-09-17 22:08:25  \n",
       "2 2013-09-17 22:08:34  \n",
       "3 2013-09-17 22:08:42  \n",
       "4 2013-09-17 22:08:49  \n",
       "5 2013-09-17 22:08:57  \n",
       "6 2013-09-17 22:09:06  \n",
       "7 2013-09-17 22:09:10  \n",
       "8 2013-09-17 22:09:13  \n",
       "9 2013-09-17 22:09:19  "
      ]
     },
     "execution_count": 3,
     "metadata": {},
     "output_type": "execute_result"
    }
   ],
   "source": [
    "df['Time'] = pd.to_datetime(df['1379455690'], unit='s')\n",
    "df.head(10)"
   ]
  },
  {
   "cell_type": "code",
   "execution_count": 4,
   "id": "41af65d1",
   "metadata": {},
   "outputs": [],
   "source": [
    "# According to documentation, for House 2 of REFIT dataset,\n",
    "# First Column - Aggregate Power\n",
    "# Second Column - Fridge\n",
    "# Third Column - Washing Machine\n",
    "# Fourth Column - Dishwasher\n",
    "# Sixth Column - Mircowave"
   ]
  },
  {
   "cell_type": "code",
   "execution_count": 5,
   "id": "2ee103e9",
   "metadata": {},
   "outputs": [
    {
     "data": {
      "text/html": [
       "<div>\n",
       "<style scoped>\n",
       "    .dataframe tbody tr th:only-of-type {\n",
       "        vertical-align: middle;\n",
       "    }\n",
       "\n",
       "    .dataframe tbody tr th {\n",
       "        vertical-align: top;\n",
       "    }\n",
       "\n",
       "    .dataframe thead th {\n",
       "        text-align: right;\n",
       "    }\n",
       "</style>\n",
       "<table border=\"1\" class=\"dataframe\">\n",
       "  <thead>\n",
       "    <tr style=\"text-align: right;\">\n",
       "      <th></th>\n",
       "      <th>Time</th>\n",
       "      <th>Mains</th>\n",
       "      <th>Fridge</th>\n",
       "      <th>Washer_Dryer</th>\n",
       "      <th>Dishwasher</th>\n",
       "      <th>Microwave</th>\n",
       "    </tr>\n",
       "  </thead>\n",
       "  <tbody>\n",
       "    <tr>\n",
       "      <th>0</th>\n",
       "      <td>2013-09-17 22:08:18</td>\n",
       "      <td>694</td>\n",
       "      <td>88</td>\n",
       "      <td>0</td>\n",
       "      <td>0</td>\n",
       "      <td>0</td>\n",
       "    </tr>\n",
       "    <tr>\n",
       "      <th>1</th>\n",
       "      <td>2013-09-17 22:08:25</td>\n",
       "      <td>694</td>\n",
       "      <td>88</td>\n",
       "      <td>0</td>\n",
       "      <td>0</td>\n",
       "      <td>0</td>\n",
       "    </tr>\n",
       "    <tr>\n",
       "      <th>2</th>\n",
       "      <td>2013-09-17 22:08:34</td>\n",
       "      <td>702</td>\n",
       "      <td>88</td>\n",
       "      <td>0</td>\n",
       "      <td>0</td>\n",
       "      <td>0</td>\n",
       "    </tr>\n",
       "    <tr>\n",
       "      <th>3</th>\n",
       "      <td>2013-09-17 22:08:42</td>\n",
       "      <td>700</td>\n",
       "      <td>88</td>\n",
       "      <td>0</td>\n",
       "      <td>0</td>\n",
       "      <td>0</td>\n",
       "    </tr>\n",
       "    <tr>\n",
       "      <th>4</th>\n",
       "      <td>2013-09-17 22:08:49</td>\n",
       "      <td>702</td>\n",
       "      <td>88</td>\n",
       "      <td>0</td>\n",
       "      <td>0</td>\n",
       "      <td>0</td>\n",
       "    </tr>\n",
       "    <tr>\n",
       "      <th>...</th>\n",
       "      <td>...</td>\n",
       "      <td>...</td>\n",
       "      <td>...</td>\n",
       "      <td>...</td>\n",
       "      <td>...</td>\n",
       "      <td>...</td>\n",
       "    </tr>\n",
       "    <tr>\n",
       "      <th>6415347</th>\n",
       "      <td>2015-05-28 07:05:16</td>\n",
       "      <td>315</td>\n",
       "      <td>82</td>\n",
       "      <td>28</td>\n",
       "      <td>0</td>\n",
       "      <td>0</td>\n",
       "    </tr>\n",
       "    <tr>\n",
       "      <th>6415348</th>\n",
       "      <td>2015-05-28 07:05:23</td>\n",
       "      <td>333</td>\n",
       "      <td>81</td>\n",
       "      <td>28</td>\n",
       "      <td>0</td>\n",
       "      <td>0</td>\n",
       "    </tr>\n",
       "    <tr>\n",
       "      <th>6415349</th>\n",
       "      <td>2015-05-28 07:05:30</td>\n",
       "      <td>313</td>\n",
       "      <td>81</td>\n",
       "      <td>28</td>\n",
       "      <td>0</td>\n",
       "      <td>0</td>\n",
       "    </tr>\n",
       "    <tr>\n",
       "      <th>6415350</th>\n",
       "      <td>2015-05-28 07:05:37</td>\n",
       "      <td>316</td>\n",
       "      <td>82</td>\n",
       "      <td>54</td>\n",
       "      <td>0</td>\n",
       "      <td>0</td>\n",
       "    </tr>\n",
       "    <tr>\n",
       "      <th>6415351</th>\n",
       "      <td>2015-05-28 07:05:43</td>\n",
       "      <td>383</td>\n",
       "      <td>82</td>\n",
       "      <td>5</td>\n",
       "      <td>0</td>\n",
       "      <td>0</td>\n",
       "    </tr>\n",
       "  </tbody>\n",
       "</table>\n",
       "<p>6415352 rows × 6 columns</p>\n",
       "</div>"
      ],
      "text/plain": [
       "                       Time  Mains  Fridge  Washer_Dryer  Dishwasher  \\\n",
       "0       2013-09-17 22:08:18    694      88             0           0   \n",
       "1       2013-09-17 22:08:25    694      88             0           0   \n",
       "2       2013-09-17 22:08:34    702      88             0           0   \n",
       "3       2013-09-17 22:08:42    700      88             0           0   \n",
       "4       2013-09-17 22:08:49    702      88             0           0   \n",
       "...                     ...    ...     ...           ...         ...   \n",
       "6415347 2015-05-28 07:05:16    315      82            28           0   \n",
       "6415348 2015-05-28 07:05:23    333      81            28           0   \n",
       "6415349 2015-05-28 07:05:30    313      81            28           0   \n",
       "6415350 2015-05-28 07:05:37    316      82            54           0   \n",
       "6415351 2015-05-28 07:05:43    383      82             5           0   \n",
       "\n",
       "         Microwave  \n",
       "0                0  \n",
       "1                0  \n",
       "2                0  \n",
       "3                0  \n",
       "4                0  \n",
       "...            ...  \n",
       "6415347          0  \n",
       "6415348          0  \n",
       "6415349          0  \n",
       "6415350          0  \n",
       "6415351          0  \n",
       "\n",
       "[6415352 rows x 6 columns]"
      ]
     },
     "execution_count": 5,
     "metadata": {},
     "output_type": "execute_result"
    }
   ],
   "source": [
    "df = df.rename(columns={'695': 'Mains', '88':'Fridge', '0':'Washer_Dryer', '0.1':'Dishwasher', '0.3':'Microwave'})\n",
    "df = df[['Time', 'Mains', 'Fridge','Washer_Dryer','Dishwasher','Microwave']]\n",
    "df"
   ]
  },
  {
   "cell_type": "code",
   "execution_count": 6,
   "id": "400c0e46",
   "metadata": {},
   "outputs": [],
   "source": [
    "df.to_csv('Refit House2.csv', index=False)"
   ]
  },
  {
   "cell_type": "markdown",
   "id": "c5836b47",
   "metadata": {},
   "source": [
    "# Fridge"
   ]
  },
  {
   "cell_type": "code",
   "execution_count": 7,
   "id": "3a4b93b7",
   "metadata": {},
   "outputs": [],
   "source": [
    "fridge = df['Fridge']\n",
    "fridge = pd.DataFrame(fridge)"
   ]
  },
  {
   "cell_type": "code",
   "execution_count": 8,
   "id": "b028230f",
   "metadata": {},
   "outputs": [
    {
     "data": {
      "text/plain": [
       "KMeans(n_clusters=2)"
      ]
     },
     "execution_count": 8,
     "metadata": {},
     "output_type": "execute_result"
    }
   ],
   "source": [
    "km = KMeans(n_clusters=2)\n",
    "km.fit(fridge)"
   ]
  },
  {
   "cell_type": "code",
   "execution_count": 9,
   "id": "eb87380d",
   "metadata": {},
   "outputs": [
    {
     "data": {
      "text/plain": [
       "array([[ 1.04210068],\n",
       "       [88.51213257]])"
      ]
     },
     "execution_count": 9,
     "metadata": {},
     "output_type": "execute_result"
    }
   ],
   "source": [
    "centroids  = km.cluster_centers_\n",
    "cent_fridge=centroids\n",
    "cent_fridge"
   ]
  },
  {
   "cell_type": "code",
   "execution_count": 10,
   "id": "625dc32c",
   "metadata": {},
   "outputs": [],
   "source": [
    "labels = km.labels_\n",
    "labels = pd.DataFrame (labels, columns = ['fridge_label'])\n",
    "\n",
    "dummy = df\n",
    "dummy = dummy.join(labels)\n",
    "\n",
    "test = dummy[['Fridge','fridge_label']] \n",
    "\n",
    "on = test[test['fridge_label'] == 1] ## on status\n",
    "on = on['Fridge'].std() \n",
    "\n",
    "off = test[test['fridge_label'] == 0] ## off status\n",
    "off = off['Fridge'].std() "
   ]
  },
  {
   "cell_type": "code",
   "execution_count": 11,
   "id": "4f9ead47",
   "metadata": {},
   "outputs": [],
   "source": [
    "d = off/(on+off)\n",
    "lambda_fridge = ((1.0-d)*(cent_fridge[0]))+(d*cent_fridge[1])"
   ]
  },
  {
   "cell_type": "markdown",
   "id": "9eba1bde",
   "metadata": {},
   "source": [
    "# Dishwasher"
   ]
  },
  {
   "cell_type": "code",
   "execution_count": 12,
   "id": "15954cb2",
   "metadata": {},
   "outputs": [],
   "source": [
    "dw = df['Dishwasher']\n",
    "dw = pd.DataFrame(dw)"
   ]
  },
  {
   "cell_type": "code",
   "execution_count": 13,
   "id": "280364d7",
   "metadata": {},
   "outputs": [
    {
     "data": {
      "text/plain": [
       "KMeans(n_clusters=2)"
      ]
     },
     "execution_count": 13,
     "metadata": {},
     "output_type": "execute_result"
    }
   ],
   "source": [
    "km = KMeans(n_clusters=2)\n",
    "km.fit(dw)"
   ]
  },
  {
   "cell_type": "code",
   "execution_count": 14,
   "id": "7c1b0bf9",
   "metadata": {},
   "outputs": [
    {
     "data": {
      "text/plain": [
       "array([[   3.50168757],\n",
       "       [2221.26894114]])"
      ]
     },
     "execution_count": 14,
     "metadata": {},
     "output_type": "execute_result"
    }
   ],
   "source": [
    "centroids  = km.cluster_centers_\n",
    "cent_dw=centroids\n",
    "cent_dw"
   ]
  },
  {
   "cell_type": "code",
   "execution_count": 15,
   "id": "fa3c9ae1",
   "metadata": {},
   "outputs": [],
   "source": [
    "labels = km.labels_\n",
    "labels = pd.DataFrame (labels, columns = ['dw_label'])\n",
    "\n",
    "dummy = df\n",
    "dummy = dummy.join(labels)\n",
    "\n",
    "test = dummy[['Dishwasher','dw_label']] \n",
    "\n",
    "on = test[test['dw_label'] == 1] ## on status\n",
    "on = on['Dishwasher'].std() \n",
    "\n",
    "off = test[test['dw_label'] == 0] ## off status\n",
    "off = off['Dishwasher'].std() "
   ]
  },
  {
   "cell_type": "code",
   "execution_count": 16,
   "id": "da74368c",
   "metadata": {},
   "outputs": [],
   "source": [
    "d = off/(on+off)\n",
    "lambda_dw = ((1.0-d)*(cent_dw[0]))+(d*cent_dw[1])"
   ]
  },
  {
   "cell_type": "markdown",
   "id": "c6dac198",
   "metadata": {},
   "source": [
    "# Microwave"
   ]
  },
  {
   "cell_type": "code",
   "execution_count": 17,
   "id": "63b52c42",
   "metadata": {},
   "outputs": [],
   "source": [
    "mw = df['Microwave']\n",
    "mw = pd.DataFrame(mw)"
   ]
  },
  {
   "cell_type": "code",
   "execution_count": 18,
   "id": "a0e092e0",
   "metadata": {},
   "outputs": [
    {
     "data": {
      "text/plain": [
       "KMeans(n_clusters=2)"
      ]
     },
     "execution_count": 18,
     "metadata": {},
     "output_type": "execute_result"
    }
   ],
   "source": [
    "km = KMeans(n_clusters=2)\n",
    "km.fit(mw)"
   ]
  },
  {
   "cell_type": "code",
   "execution_count": 19,
   "id": "37380f19",
   "metadata": {},
   "outputs": [
    {
     "data": {
      "text/plain": [
       "array([[3.29628149e+00],\n",
       "       [7.04918571e+04]])"
      ]
     },
     "execution_count": 19,
     "metadata": {},
     "output_type": "execute_result"
    }
   ],
   "source": [
    "centroids  = km.cluster_centers_\n",
    "cent_mw=centroids\n",
    "cent_mw"
   ]
  },
  {
   "cell_type": "code",
   "execution_count": 20,
   "id": "ffd02f8f",
   "metadata": {},
   "outputs": [],
   "source": [
    "labels = km.labels_\n",
    "labels = pd.DataFrame (labels, columns = ['mw_label'])\n",
    "\n",
    "dummy = df\n",
    "dummy = dummy.join(labels)\n",
    "\n",
    "test = dummy[['Microwave','mw_label']] \n",
    "\n",
    "on = test[test['mw_label'] == 1] ## on status\n",
    "on = on['Microwave'].std() \n",
    "\n",
    "off = test[test['mw_label'] == 0] ## off status\n",
    "off = off['Microwave'].std() "
   ]
  },
  {
   "cell_type": "code",
   "execution_count": 21,
   "id": "eefdf1bb",
   "metadata": {},
   "outputs": [],
   "source": [
    "d = off/(on+off)\n",
    "lambda_mw = ((1.0-d)*(cent_mw[0]))+(d*cent_mw[1])"
   ]
  },
  {
   "cell_type": "markdown",
   "id": "5e784943",
   "metadata": {},
   "source": [
    "# Washer Dryer"
   ]
  },
  {
   "cell_type": "code",
   "execution_count": 22,
   "id": "78808231",
   "metadata": {},
   "outputs": [],
   "source": [
    "wd = df['Washer_Dryer']\n",
    "wd = pd.DataFrame(wd)"
   ]
  },
  {
   "cell_type": "code",
   "execution_count": 23,
   "id": "4c8c8731",
   "metadata": {},
   "outputs": [
    {
     "data": {
      "text/plain": [
       "KMeans(n_clusters=2)"
      ]
     },
     "execution_count": 23,
     "metadata": {},
     "output_type": "execute_result"
    }
   ],
   "source": [
    "km = KMeans(n_clusters=2)\n",
    "km.fit(wd)"
   ]
  },
  {
   "cell_type": "code",
   "execution_count": 24,
   "id": "1e1db4b2",
   "metadata": {},
   "outputs": [
    {
     "data": {
      "text/plain": [
       "array([[   3.61648499],\n",
       "       [2079.14986413]])"
      ]
     },
     "execution_count": 24,
     "metadata": {},
     "output_type": "execute_result"
    }
   ],
   "source": [
    "centroids  = km.cluster_centers_\n",
    "cent_wd=centroids\n",
    "cent_wd"
   ]
  },
  {
   "cell_type": "code",
   "execution_count": 25,
   "id": "6243baf0",
   "metadata": {},
   "outputs": [],
   "source": [
    "labels = km.labels_\n",
    "labels = pd.DataFrame (labels, columns = ['wd_label'])\n",
    "\n",
    "dummy = df\n",
    "dummy = dummy.join(labels)\n",
    "\n",
    "test = dummy[['Washer_Dryer','wd_label']] \n",
    "\n",
    "on = test[test['wd_label'] == 1] ## on status\n",
    "on = on['Washer_Dryer'].std() \n",
    "\n",
    "off = test[test['wd_label'] == 0] ## off status\n",
    "off = off['Washer_Dryer'].std() "
   ]
  },
  {
   "cell_type": "code",
   "execution_count": 26,
   "id": "61d588af",
   "metadata": {},
   "outputs": [],
   "source": [
    "d = off/(on+off)\n",
    "lambda_wd = ((1.0-d)*(cent_wd[0]))+(d*cent_wd[1])"
   ]
  },
  {
   "cell_type": "code",
   "execution_count": null,
   "id": "603d8b6d",
   "metadata": {},
   "outputs": [],
   "source": []
  },
  {
   "cell_type": "code",
   "execution_count": null,
   "id": "d661d944",
   "metadata": {},
   "outputs": [],
   "source": []
  },
  {
   "cell_type": "markdown",
   "id": "db8fca94",
   "metadata": {},
   "source": [
    "## Adding Appliance Status to the Dataframe"
   ]
  },
  {
   "cell_type": "code",
   "execution_count": 27,
   "id": "2891dd13",
   "metadata": {},
   "outputs": [
    {
     "data": {
      "text/plain": [
       "0          1\n",
       "1          1\n",
       "2          1\n",
       "3          1\n",
       "4          1\n",
       "          ..\n",
       "6415347    1\n",
       "6415348    1\n",
       "6415349    1\n",
       "6415350    1\n",
       "6415351    1\n",
       "Name: fridge_stat, Length: 6415352, dtype: int64"
      ]
     },
     "execution_count": 27,
     "metadata": {},
     "output_type": "execute_result"
    }
   ],
   "source": [
    "df['fridge_stats'] = df['Fridge'] - lambda_fridge\n",
    "df['fridge_stat'] = [1 if x >= 0 else 0 for x in df['fridge_stats']]\n",
    "df.fridge_stat"
   ]
  },
  {
   "cell_type": "code",
   "execution_count": 28,
   "id": "fef20c77",
   "metadata": {},
   "outputs": [
    {
     "data": {
      "text/plain": [
       "0          0\n",
       "1          0\n",
       "2          0\n",
       "3          0\n",
       "4          0\n",
       "          ..\n",
       "6415347    0\n",
       "6415348    0\n",
       "6415349    0\n",
       "6415350    0\n",
       "6415351    0\n",
       "Name: dishwasher_stat, Length: 6415352, dtype: int64"
      ]
     },
     "execution_count": 28,
     "metadata": {},
     "output_type": "execute_result"
    }
   ],
   "source": [
    "df['dishwasher_stats'] = df['Dishwasher'] - lambda_dw\n",
    "df['dishwasher_stat'] = [1 if x >= 0 else 0 for x in df['dishwasher_stats']]\n",
    "df.dishwasher_stat"
   ]
  },
  {
   "cell_type": "code",
   "execution_count": 29,
   "id": "5184b631",
   "metadata": {},
   "outputs": [
    {
     "data": {
      "text/plain": [
       "0          0\n",
       "1          0\n",
       "2          0\n",
       "3          0\n",
       "4          0\n",
       "          ..\n",
       "6415347    0\n",
       "6415348    0\n",
       "6415349    0\n",
       "6415350    0\n",
       "6415351    0\n",
       "Name: microwave_stat, Length: 6415352, dtype: int64"
      ]
     },
     "execution_count": 29,
     "metadata": {},
     "output_type": "execute_result"
    }
   ],
   "source": [
    "df['microwave_stats'] = df['Microwave'] - lambda_mw\n",
    "df['microwave_stat'] = [1 if x >= 0 else 0 for x in df['microwave_stats']]\n",
    "df.microwave_stat"
   ]
  },
  {
   "cell_type": "code",
   "execution_count": 30,
   "id": "25406b99",
   "metadata": {},
   "outputs": [
    {
     "data": {
      "text/plain": [
       "0          0\n",
       "1          0\n",
       "2          0\n",
       "3          0\n",
       "4          0\n",
       "          ..\n",
       "6415347    0\n",
       "6415348    0\n",
       "6415349    0\n",
       "6415350    1\n",
       "6415351    0\n",
       "Name: washerdryer_stat, Length: 6415352, dtype: int64"
      ]
     },
     "execution_count": 30,
     "metadata": {},
     "output_type": "execute_result"
    }
   ],
   "source": [
    "df['washerdryer_stats'] = df['Washer_Dryer'] - lambda_wd\n",
    "df['washerdryer_stat'] = [1 if x >= 0 else 0 for x in df['washerdryer_stats']]\n",
    "df.washerdryer_stat"
   ]
  },
  {
   "cell_type": "code",
   "execution_count": 31,
   "id": "8097f7d7",
   "metadata": {},
   "outputs": [],
   "source": [
    "df = df[['Time', 'Mains', 'fridge_stat','dishwasher_stat','microwave_stat','washerdryer_stat']]"
   ]
  },
  {
   "cell_type": "code",
   "execution_count": 32,
   "id": "ec41de5d",
   "metadata": {},
   "outputs": [
    {
     "data": {
      "text/html": [
       "<div>\n",
       "<style scoped>\n",
       "    .dataframe tbody tr th:only-of-type {\n",
       "        vertical-align: middle;\n",
       "    }\n",
       "\n",
       "    .dataframe tbody tr th {\n",
       "        vertical-align: top;\n",
       "    }\n",
       "\n",
       "    .dataframe thead th {\n",
       "        text-align: right;\n",
       "    }\n",
       "</style>\n",
       "<table border=\"1\" class=\"dataframe\">\n",
       "  <thead>\n",
       "    <tr style=\"text-align: right;\">\n",
       "      <th></th>\n",
       "      <th>Time</th>\n",
       "      <th>Mains</th>\n",
       "      <th>fridge_stat</th>\n",
       "      <th>dishwasher_stat</th>\n",
       "      <th>microwave_stat</th>\n",
       "      <th>washerdryer_stat</th>\n",
       "    </tr>\n",
       "  </thead>\n",
       "  <tbody>\n",
       "    <tr>\n",
       "      <th>0</th>\n",
       "      <td>2013-09-17 22:08:18</td>\n",
       "      <td>694</td>\n",
       "      <td>1</td>\n",
       "      <td>0</td>\n",
       "      <td>0</td>\n",
       "      <td>0</td>\n",
       "    </tr>\n",
       "    <tr>\n",
       "      <th>1</th>\n",
       "      <td>2013-09-17 22:08:25</td>\n",
       "      <td>694</td>\n",
       "      <td>1</td>\n",
       "      <td>0</td>\n",
       "      <td>0</td>\n",
       "      <td>0</td>\n",
       "    </tr>\n",
       "    <tr>\n",
       "      <th>2</th>\n",
       "      <td>2013-09-17 22:08:34</td>\n",
       "      <td>702</td>\n",
       "      <td>1</td>\n",
       "      <td>0</td>\n",
       "      <td>0</td>\n",
       "      <td>0</td>\n",
       "    </tr>\n",
       "    <tr>\n",
       "      <th>3</th>\n",
       "      <td>2013-09-17 22:08:42</td>\n",
       "      <td>700</td>\n",
       "      <td>1</td>\n",
       "      <td>0</td>\n",
       "      <td>0</td>\n",
       "      <td>0</td>\n",
       "    </tr>\n",
       "    <tr>\n",
       "      <th>4</th>\n",
       "      <td>2013-09-17 22:08:49</td>\n",
       "      <td>702</td>\n",
       "      <td>1</td>\n",
       "      <td>0</td>\n",
       "      <td>0</td>\n",
       "      <td>0</td>\n",
       "    </tr>\n",
       "  </tbody>\n",
       "</table>\n",
       "</div>"
      ],
      "text/plain": [
       "                 Time  Mains  fridge_stat  dishwasher_stat  microwave_stat  \\\n",
       "0 2013-09-17 22:08:18    694            1                0               0   \n",
       "1 2013-09-17 22:08:25    694            1                0               0   \n",
       "2 2013-09-17 22:08:34    702            1                0               0   \n",
       "3 2013-09-17 22:08:42    700            1                0               0   \n",
       "4 2013-09-17 22:08:49    702            1                0               0   \n",
       "\n",
       "   washerdryer_stat  \n",
       "0                 0  \n",
       "1                 0  \n",
       "2                 0  \n",
       "3                 0  \n",
       "4                 0  "
      ]
     },
     "execution_count": 32,
     "metadata": {},
     "output_type": "execute_result"
    }
   ],
   "source": [
    "df.head(5)"
   ]
  },
  {
   "cell_type": "code",
   "execution_count": 33,
   "id": "fae15799",
   "metadata": {},
   "outputs": [],
   "source": [
    "ddf = df.reset_index() # same as df.reset_index(level=0)\n",
    "ddf.to_csv('House2 Refit with operational status (VST).csv', index = False) # this is for house 1 of the low frequency REDD dataset"
   ]
  },
  {
   "cell_type": "code",
   "execution_count": null,
   "id": "24fb9ba2",
   "metadata": {},
   "outputs": [],
   "source": []
  }
 ],
 "metadata": {
  "kernelspec": {
   "display_name": "Python 3 (ipykernel)",
   "language": "python",
   "name": "python3"
  },
  "language_info": {
   "codemirror_mode": {
    "name": "ipython",
    "version": 3
   },
   "file_extension": ".py",
   "mimetype": "text/x-python",
   "name": "python",
   "nbconvert_exporter": "python",
   "pygments_lexer": "ipython3",
   "version": "3.9.13"
  }
 },
 "nbformat": 4,
 "nbformat_minor": 5
}
