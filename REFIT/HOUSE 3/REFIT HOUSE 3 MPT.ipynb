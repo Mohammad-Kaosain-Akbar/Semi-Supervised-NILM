{
 "cells": [
  {
   "cell_type": "code",
   "execution_count": 1,
   "id": "6f46f4f6",
   "metadata": {},
   "outputs": [],
   "source": [
    "import numpy as np\n",
    "import pandas as pd\n",
    "import matplotlib.pyplot as plt\n",
    "%matplotlib inline\n",
    "from IPython.display import display\n",
    "import datetime\n",
    "import time\n",
    "import math\n",
    "import warnings\n",
    "warnings.filterwarnings(\"ignore\")\n",
    "import glob\n",
    "from sklearn.cluster import KMeans"
   ]
  },
  {
   "cell_type": "code",
   "execution_count": 2,
   "id": "946e7f04",
   "metadata": {},
   "outputs": [
    {
     "data": {
      "text/html": [
       "<div>\n",
       "<style scoped>\n",
       "    .dataframe tbody tr th:only-of-type {\n",
       "        vertical-align: middle;\n",
       "    }\n",
       "\n",
       "    .dataframe tbody tr th {\n",
       "        vertical-align: top;\n",
       "    }\n",
       "\n",
       "    .dataframe thead th {\n",
       "        text-align: right;\n",
       "    }\n",
       "</style>\n",
       "<table border=\"1\" class=\"dataframe\">\n",
       "  <thead>\n",
       "    <tr style=\"text-align: right;\">\n",
       "      <th></th>\n",
       "      <th>1380136869</th>\n",
       "      <th>387</th>\n",
       "      <th>0</th>\n",
       "      <th>0.1</th>\n",
       "      <th>86</th>\n",
       "      <th>0.2</th>\n",
       "      <th>0.3</th>\n",
       "      <th>0.4</th>\n",
       "      <th>145</th>\n",
       "      <th>0.5</th>\n",
       "      <th>0.6</th>\n",
       "    </tr>\n",
       "  </thead>\n",
       "  <tbody>\n",
       "    <tr>\n",
       "      <th>0</th>\n",
       "      <td>1380136875</td>\n",
       "      <td>386</td>\n",
       "      <td>0</td>\n",
       "      <td>0</td>\n",
       "      <td>86</td>\n",
       "      <td>0</td>\n",
       "      <td>0</td>\n",
       "      <td>0</td>\n",
       "      <td>144</td>\n",
       "      <td>0</td>\n",
       "      <td>0</td>\n",
       "    </tr>\n",
       "    <tr>\n",
       "      <th>1</th>\n",
       "      <td>1380136882</td>\n",
       "      <td>383</td>\n",
       "      <td>0</td>\n",
       "      <td>0</td>\n",
       "      <td>86</td>\n",
       "      <td>0</td>\n",
       "      <td>0</td>\n",
       "      <td>0</td>\n",
       "      <td>144</td>\n",
       "      <td>0</td>\n",
       "      <td>0</td>\n",
       "    </tr>\n",
       "    <tr>\n",
       "      <th>2</th>\n",
       "      <td>1380136890</td>\n",
       "      <td>388</td>\n",
       "      <td>0</td>\n",
       "      <td>0</td>\n",
       "      <td>87</td>\n",
       "      <td>0</td>\n",
       "      <td>0</td>\n",
       "      <td>0</td>\n",
       "      <td>145</td>\n",
       "      <td>0</td>\n",
       "      <td>0</td>\n",
       "    </tr>\n",
       "    <tr>\n",
       "      <th>3</th>\n",
       "      <td>1380136897</td>\n",
       "      <td>388</td>\n",
       "      <td>0</td>\n",
       "      <td>0</td>\n",
       "      <td>86</td>\n",
       "      <td>0</td>\n",
       "      <td>0</td>\n",
       "      <td>0</td>\n",
       "      <td>145</td>\n",
       "      <td>0</td>\n",
       "      <td>0</td>\n",
       "    </tr>\n",
       "    <tr>\n",
       "      <th>4</th>\n",
       "      <td>1380136903</td>\n",
       "      <td>388</td>\n",
       "      <td>0</td>\n",
       "      <td>0</td>\n",
       "      <td>20</td>\n",
       "      <td>0</td>\n",
       "      <td>0</td>\n",
       "      <td>0</td>\n",
       "      <td>145</td>\n",
       "      <td>0</td>\n",
       "      <td>0</td>\n",
       "    </tr>\n",
       "    <tr>\n",
       "      <th>...</th>\n",
       "      <td>...</td>\n",
       "      <td>...</td>\n",
       "      <td>...</td>\n",
       "      <td>...</td>\n",
       "      <td>...</td>\n",
       "      <td>...</td>\n",
       "      <td>...</td>\n",
       "      <td>...</td>\n",
       "      <td>...</td>\n",
       "      <td>...</td>\n",
       "      <td>...</td>\n",
       "    </tr>\n",
       "    <tr>\n",
       "      <th>7694942</th>\n",
       "      <td>1433238914</td>\n",
       "      <td>2674</td>\n",
       "      <td>0</td>\n",
       "      <td>0</td>\n",
       "      <td>0</td>\n",
       "      <td>0</td>\n",
       "      <td>0</td>\n",
       "      <td>1994</td>\n",
       "      <td>0</td>\n",
       "      <td>0</td>\n",
       "      <td>0</td>\n",
       "    </tr>\n",
       "    <tr>\n",
       "      <th>7694943</th>\n",
       "      <td>1433238921</td>\n",
       "      <td>2435</td>\n",
       "      <td>0</td>\n",
       "      <td>0</td>\n",
       "      <td>0</td>\n",
       "      <td>0</td>\n",
       "      <td>0</td>\n",
       "      <td>1841</td>\n",
       "      <td>0</td>\n",
       "      <td>0</td>\n",
       "      <td>0</td>\n",
       "    </tr>\n",
       "    <tr>\n",
       "      <th>7694944</th>\n",
       "      <td>1433238928</td>\n",
       "      <td>2453</td>\n",
       "      <td>0</td>\n",
       "      <td>0</td>\n",
       "      <td>0</td>\n",
       "      <td>0</td>\n",
       "      <td>0</td>\n",
       "      <td>1828</td>\n",
       "      <td>0</td>\n",
       "      <td>0</td>\n",
       "      <td>0</td>\n",
       "    </tr>\n",
       "    <tr>\n",
       "      <th>7694945</th>\n",
       "      <td>1433238935</td>\n",
       "      <td>2733</td>\n",
       "      <td>0</td>\n",
       "      <td>0</td>\n",
       "      <td>0</td>\n",
       "      <td>0</td>\n",
       "      <td>0</td>\n",
       "      <td>1972</td>\n",
       "      <td>0</td>\n",
       "      <td>0</td>\n",
       "      <td>0</td>\n",
       "    </tr>\n",
       "    <tr>\n",
       "      <th>7694946</th>\n",
       "      <td>1433238942</td>\n",
       "      <td>2638</td>\n",
       "      <td>0</td>\n",
       "      <td>0</td>\n",
       "      <td>0</td>\n",
       "      <td>0</td>\n",
       "      <td>0</td>\n",
       "      <td>3</td>\n",
       "      <td>0</td>\n",
       "      <td>0</td>\n",
       "      <td>0</td>\n",
       "    </tr>\n",
       "  </tbody>\n",
       "</table>\n",
       "<p>7694947 rows × 11 columns</p>\n",
       "</div>"
      ],
      "text/plain": [
       "         1380136869   387  0  0.1  86  0.2  0.3   0.4  145  0.5  0.6\n",
       "0        1380136875   386  0    0  86    0    0     0  144    0    0\n",
       "1        1380136882   383  0    0  86    0    0     0  144    0    0\n",
       "2        1380136890   388  0    0  87    0    0     0  145    0    0\n",
       "3        1380136897   388  0    0  86    0    0     0  145    0    0\n",
       "4        1380136903   388  0    0  20    0    0     0  145    0    0\n",
       "...             ...   ... ..  ...  ..  ...  ...   ...  ...  ...  ...\n",
       "7694942  1433238914  2674  0    0   0    0    0  1994    0    0    0\n",
       "7694943  1433238921  2435  0    0   0    0    0  1841    0    0    0\n",
       "7694944  1433238928  2453  0    0   0    0    0  1828    0    0    0\n",
       "7694945  1433238935  2733  0    0   0    0    0  1972    0    0    0\n",
       "7694946  1433238942  2638  0    0   0    0    0     3    0    0    0\n",
       "\n",
       "[7694947 rows x 11 columns]"
      ]
     },
     "execution_count": 2,
     "metadata": {},
     "output_type": "execute_result"
    }
   ],
   "source": [
    "df = pd.read_csv('House3.csv')\n",
    "df"
   ]
  },
  {
   "cell_type": "code",
   "execution_count": 3,
   "id": "9820e19b",
   "metadata": {},
   "outputs": [
    {
     "data": {
      "text/html": [
       "<div>\n",
       "<style scoped>\n",
       "    .dataframe tbody tr th:only-of-type {\n",
       "        vertical-align: middle;\n",
       "    }\n",
       "\n",
       "    .dataframe tbody tr th {\n",
       "        vertical-align: top;\n",
       "    }\n",
       "\n",
       "    .dataframe thead th {\n",
       "        text-align: right;\n",
       "    }\n",
       "</style>\n",
       "<table border=\"1\" class=\"dataframe\">\n",
       "  <thead>\n",
       "    <tr style=\"text-align: right;\">\n",
       "      <th></th>\n",
       "      <th>1380136869</th>\n",
       "      <th>387</th>\n",
       "      <th>0</th>\n",
       "      <th>0.1</th>\n",
       "      <th>86</th>\n",
       "      <th>0.2</th>\n",
       "      <th>0.3</th>\n",
       "      <th>0.4</th>\n",
       "      <th>145</th>\n",
       "      <th>0.5</th>\n",
       "      <th>0.6</th>\n",
       "      <th>Time</th>\n",
       "    </tr>\n",
       "  </thead>\n",
       "  <tbody>\n",
       "    <tr>\n",
       "      <th>0</th>\n",
       "      <td>1380136875</td>\n",
       "      <td>386</td>\n",
       "      <td>0</td>\n",
       "      <td>0</td>\n",
       "      <td>86</td>\n",
       "      <td>0</td>\n",
       "      <td>0</td>\n",
       "      <td>0</td>\n",
       "      <td>144</td>\n",
       "      <td>0</td>\n",
       "      <td>0</td>\n",
       "      <td>2013-09-25 19:21:15</td>\n",
       "    </tr>\n",
       "    <tr>\n",
       "      <th>1</th>\n",
       "      <td>1380136882</td>\n",
       "      <td>383</td>\n",
       "      <td>0</td>\n",
       "      <td>0</td>\n",
       "      <td>86</td>\n",
       "      <td>0</td>\n",
       "      <td>0</td>\n",
       "      <td>0</td>\n",
       "      <td>144</td>\n",
       "      <td>0</td>\n",
       "      <td>0</td>\n",
       "      <td>2013-09-25 19:21:22</td>\n",
       "    </tr>\n",
       "    <tr>\n",
       "      <th>2</th>\n",
       "      <td>1380136890</td>\n",
       "      <td>388</td>\n",
       "      <td>0</td>\n",
       "      <td>0</td>\n",
       "      <td>87</td>\n",
       "      <td>0</td>\n",
       "      <td>0</td>\n",
       "      <td>0</td>\n",
       "      <td>145</td>\n",
       "      <td>0</td>\n",
       "      <td>0</td>\n",
       "      <td>2013-09-25 19:21:30</td>\n",
       "    </tr>\n",
       "    <tr>\n",
       "      <th>3</th>\n",
       "      <td>1380136897</td>\n",
       "      <td>388</td>\n",
       "      <td>0</td>\n",
       "      <td>0</td>\n",
       "      <td>86</td>\n",
       "      <td>0</td>\n",
       "      <td>0</td>\n",
       "      <td>0</td>\n",
       "      <td>145</td>\n",
       "      <td>0</td>\n",
       "      <td>0</td>\n",
       "      <td>2013-09-25 19:21:37</td>\n",
       "    </tr>\n",
       "    <tr>\n",
       "      <th>4</th>\n",
       "      <td>1380136903</td>\n",
       "      <td>388</td>\n",
       "      <td>0</td>\n",
       "      <td>0</td>\n",
       "      <td>20</td>\n",
       "      <td>0</td>\n",
       "      <td>0</td>\n",
       "      <td>0</td>\n",
       "      <td>145</td>\n",
       "      <td>0</td>\n",
       "      <td>0</td>\n",
       "      <td>2013-09-25 19:21:43</td>\n",
       "    </tr>\n",
       "    <tr>\n",
       "      <th>5</th>\n",
       "      <td>1380136910</td>\n",
       "      <td>324</td>\n",
       "      <td>0</td>\n",
       "      <td>0</td>\n",
       "      <td>20</td>\n",
       "      <td>0</td>\n",
       "      <td>0</td>\n",
       "      <td>0</td>\n",
       "      <td>144</td>\n",
       "      <td>0</td>\n",
       "      <td>0</td>\n",
       "      <td>2013-09-25 19:21:50</td>\n",
       "    </tr>\n",
       "    <tr>\n",
       "      <th>6</th>\n",
       "      <td>1380136917</td>\n",
       "      <td>325</td>\n",
       "      <td>0</td>\n",
       "      <td>0</td>\n",
       "      <td>20</td>\n",
       "      <td>0</td>\n",
       "      <td>0</td>\n",
       "      <td>0</td>\n",
       "      <td>145</td>\n",
       "      <td>0</td>\n",
       "      <td>0</td>\n",
       "      <td>2013-09-25 19:21:57</td>\n",
       "    </tr>\n",
       "    <tr>\n",
       "      <th>7</th>\n",
       "      <td>1380136925</td>\n",
       "      <td>325</td>\n",
       "      <td>0</td>\n",
       "      <td>0</td>\n",
       "      <td>0</td>\n",
       "      <td>0</td>\n",
       "      <td>0</td>\n",
       "      <td>0</td>\n",
       "      <td>144</td>\n",
       "      <td>0</td>\n",
       "      <td>0</td>\n",
       "      <td>2013-09-25 19:22:05</td>\n",
       "    </tr>\n",
       "    <tr>\n",
       "      <th>8</th>\n",
       "      <td>1380136929</td>\n",
       "      <td>324</td>\n",
       "      <td>0</td>\n",
       "      <td>0</td>\n",
       "      <td>0</td>\n",
       "      <td>0</td>\n",
       "      <td>0</td>\n",
       "      <td>0</td>\n",
       "      <td>144</td>\n",
       "      <td>0</td>\n",
       "      <td>0</td>\n",
       "      <td>2013-09-25 19:22:09</td>\n",
       "    </tr>\n",
       "    <tr>\n",
       "      <th>9</th>\n",
       "      <td>1380136932</td>\n",
       "      <td>324</td>\n",
       "      <td>0</td>\n",
       "      <td>0</td>\n",
       "      <td>0</td>\n",
       "      <td>0</td>\n",
       "      <td>0</td>\n",
       "      <td>0</td>\n",
       "      <td>144</td>\n",
       "      <td>0</td>\n",
       "      <td>0</td>\n",
       "      <td>2013-09-25 19:22:12</td>\n",
       "    </tr>\n",
       "  </tbody>\n",
       "</table>\n",
       "</div>"
      ],
      "text/plain": [
       "   1380136869  387  0  0.1  86  0.2  0.3  0.4  145  0.5  0.6  \\\n",
       "0  1380136875  386  0    0  86    0    0    0  144    0    0   \n",
       "1  1380136882  383  0    0  86    0    0    0  144    0    0   \n",
       "2  1380136890  388  0    0  87    0    0    0  145    0    0   \n",
       "3  1380136897  388  0    0  86    0    0    0  145    0    0   \n",
       "4  1380136903  388  0    0  20    0    0    0  145    0    0   \n",
       "5  1380136910  324  0    0  20    0    0    0  144    0    0   \n",
       "6  1380136917  325  0    0  20    0    0    0  145    0    0   \n",
       "7  1380136925  325  0    0   0    0    0    0  144    0    0   \n",
       "8  1380136929  324  0    0   0    0    0    0  144    0    0   \n",
       "9  1380136932  324  0    0   0    0    0    0  144    0    0   \n",
       "\n",
       "                 Time  \n",
       "0 2013-09-25 19:21:15  \n",
       "1 2013-09-25 19:21:22  \n",
       "2 2013-09-25 19:21:30  \n",
       "3 2013-09-25 19:21:37  \n",
       "4 2013-09-25 19:21:43  \n",
       "5 2013-09-25 19:21:50  \n",
       "6 2013-09-25 19:21:57  \n",
       "7 2013-09-25 19:22:05  \n",
       "8 2013-09-25 19:22:09  \n",
       "9 2013-09-25 19:22:12  "
      ]
     },
     "execution_count": 3,
     "metadata": {},
     "output_type": "execute_result"
    }
   ],
   "source": [
    "df['Time'] = pd.to_datetime(df['1380136869'], unit='s')\n",
    "df.head(10)"
   ]
  },
  {
   "cell_type": "code",
   "execution_count": 4,
   "id": "96de6a56",
   "metadata": {},
   "outputs": [],
   "source": [
    "# According to documentation, for House 2 of REFIT dataset,\n",
    "# First Column - Aggregate Power\n",
    "# Third Column - Fridge\n",
    "# Sixth Column - Dishwasher\n",
    "# Seventh Column - Washing Machine\n",
    "# Ninth Column - Microwave"
   ]
  },
  {
   "cell_type": "code",
   "execution_count": 5,
   "id": "d6034936",
   "metadata": {},
   "outputs": [
    {
     "data": {
      "text/html": [
       "<div>\n",
       "<style scoped>\n",
       "    .dataframe tbody tr th:only-of-type {\n",
       "        vertical-align: middle;\n",
       "    }\n",
       "\n",
       "    .dataframe tbody tr th {\n",
       "        vertical-align: top;\n",
       "    }\n",
       "\n",
       "    .dataframe thead th {\n",
       "        text-align: right;\n",
       "    }\n",
       "</style>\n",
       "<table border=\"1\" class=\"dataframe\">\n",
       "  <thead>\n",
       "    <tr style=\"text-align: right;\">\n",
       "      <th></th>\n",
       "      <th>Time</th>\n",
       "      <th>Mains</th>\n",
       "      <th>Fridge</th>\n",
       "      <th>Washer_Dryer</th>\n",
       "      <th>Dishwasher</th>\n",
       "      <th>Microwave</th>\n",
       "    </tr>\n",
       "  </thead>\n",
       "  <tbody>\n",
       "    <tr>\n",
       "      <th>0</th>\n",
       "      <td>2013-09-25 19:21:15</td>\n",
       "      <td>386</td>\n",
       "      <td>0</td>\n",
       "      <td>0</td>\n",
       "      <td>0</td>\n",
       "      <td>0</td>\n",
       "    </tr>\n",
       "    <tr>\n",
       "      <th>1</th>\n",
       "      <td>2013-09-25 19:21:22</td>\n",
       "      <td>383</td>\n",
       "      <td>0</td>\n",
       "      <td>0</td>\n",
       "      <td>0</td>\n",
       "      <td>0</td>\n",
       "    </tr>\n",
       "    <tr>\n",
       "      <th>2</th>\n",
       "      <td>2013-09-25 19:21:30</td>\n",
       "      <td>388</td>\n",
       "      <td>0</td>\n",
       "      <td>0</td>\n",
       "      <td>0</td>\n",
       "      <td>0</td>\n",
       "    </tr>\n",
       "    <tr>\n",
       "      <th>3</th>\n",
       "      <td>2013-09-25 19:21:37</td>\n",
       "      <td>388</td>\n",
       "      <td>0</td>\n",
       "      <td>0</td>\n",
       "      <td>0</td>\n",
       "      <td>0</td>\n",
       "    </tr>\n",
       "    <tr>\n",
       "      <th>4</th>\n",
       "      <td>2013-09-25 19:21:43</td>\n",
       "      <td>388</td>\n",
       "      <td>0</td>\n",
       "      <td>0</td>\n",
       "      <td>0</td>\n",
       "      <td>0</td>\n",
       "    </tr>\n",
       "    <tr>\n",
       "      <th>...</th>\n",
       "      <td>...</td>\n",
       "      <td>...</td>\n",
       "      <td>...</td>\n",
       "      <td>...</td>\n",
       "      <td>...</td>\n",
       "      <td>...</td>\n",
       "    </tr>\n",
       "    <tr>\n",
       "      <th>7694942</th>\n",
       "      <td>2015-06-02 09:55:14</td>\n",
       "      <td>2674</td>\n",
       "      <td>0</td>\n",
       "      <td>1994</td>\n",
       "      <td>0</td>\n",
       "      <td>0</td>\n",
       "    </tr>\n",
       "    <tr>\n",
       "      <th>7694943</th>\n",
       "      <td>2015-06-02 09:55:21</td>\n",
       "      <td>2435</td>\n",
       "      <td>0</td>\n",
       "      <td>1841</td>\n",
       "      <td>0</td>\n",
       "      <td>0</td>\n",
       "    </tr>\n",
       "    <tr>\n",
       "      <th>7694944</th>\n",
       "      <td>2015-06-02 09:55:28</td>\n",
       "      <td>2453</td>\n",
       "      <td>0</td>\n",
       "      <td>1828</td>\n",
       "      <td>0</td>\n",
       "      <td>0</td>\n",
       "    </tr>\n",
       "    <tr>\n",
       "      <th>7694945</th>\n",
       "      <td>2015-06-02 09:55:35</td>\n",
       "      <td>2733</td>\n",
       "      <td>0</td>\n",
       "      <td>1972</td>\n",
       "      <td>0</td>\n",
       "      <td>0</td>\n",
       "    </tr>\n",
       "    <tr>\n",
       "      <th>7694946</th>\n",
       "      <td>2015-06-02 09:55:42</td>\n",
       "      <td>2638</td>\n",
       "      <td>0</td>\n",
       "      <td>3</td>\n",
       "      <td>0</td>\n",
       "      <td>0</td>\n",
       "    </tr>\n",
       "  </tbody>\n",
       "</table>\n",
       "<p>7694947 rows × 6 columns</p>\n",
       "</div>"
      ],
      "text/plain": [
       "                       Time  Mains  Fridge  Washer_Dryer  Dishwasher  \\\n",
       "0       2013-09-25 19:21:15    386       0             0           0   \n",
       "1       2013-09-25 19:21:22    383       0             0           0   \n",
       "2       2013-09-25 19:21:30    388       0             0           0   \n",
       "3       2013-09-25 19:21:37    388       0             0           0   \n",
       "4       2013-09-25 19:21:43    388       0             0           0   \n",
       "...                     ...    ...     ...           ...         ...   \n",
       "7694942 2015-06-02 09:55:14   2674       0          1994           0   \n",
       "7694943 2015-06-02 09:55:21   2435       0          1841           0   \n",
       "7694944 2015-06-02 09:55:28   2453       0          1828           0   \n",
       "7694945 2015-06-02 09:55:35   2733       0          1972           0   \n",
       "7694946 2015-06-02 09:55:42   2638       0             3           0   \n",
       "\n",
       "         Microwave  \n",
       "0                0  \n",
       "1                0  \n",
       "2                0  \n",
       "3                0  \n",
       "4                0  \n",
       "...            ...  \n",
       "7694942          0  \n",
       "7694943          0  \n",
       "7694944          0  \n",
       "7694945          0  \n",
       "7694946          0  \n",
       "\n",
       "[7694947 rows x 6 columns]"
      ]
     },
     "execution_count": 5,
     "metadata": {},
     "output_type": "execute_result"
    }
   ],
   "source": [
    "df = df.rename(columns={'387': 'Mains', '0.1':'Fridge', '0.4':'Washer_Dryer', '0.3':'Dishwasher', '0.5':'Microwave'})\n",
    "df = df[['Time', 'Mains', 'Fridge','Washer_Dryer','Dishwasher','Microwave']]\n",
    "df"
   ]
  },
  {
   "cell_type": "code",
   "execution_count": 6,
   "id": "5afa931d",
   "metadata": {},
   "outputs": [],
   "source": [
    "df.to_csv('Refit House3.csv', index=False)"
   ]
  },
  {
   "cell_type": "markdown",
   "id": "76f18a37",
   "metadata": {},
   "source": [
    "# Fridge"
   ]
  },
  {
   "cell_type": "code",
   "execution_count": 7,
   "id": "26e55491",
   "metadata": {},
   "outputs": [],
   "source": [
    "fridge = df['Fridge']\n",
    "fridge = pd.DataFrame(fridge)"
   ]
  },
  {
   "cell_type": "code",
   "execution_count": 8,
   "id": "b6b538d6",
   "metadata": {},
   "outputs": [
    {
     "data": {
      "text/plain": [
       "KMeans(n_clusters=2)"
      ]
     },
     "execution_count": 8,
     "metadata": {},
     "output_type": "execute_result"
    }
   ],
   "source": [
    "km = KMeans(n_clusters=2)\n",
    "km.fit(fridge)"
   ]
  },
  {
   "cell_type": "code",
   "execution_count": 9,
   "id": "11161feb",
   "metadata": {},
   "outputs": [
    {
     "data": {
      "text/plain": [
       "array([[5.54424777e+01],\n",
       "       [7.86556000e+04]])"
      ]
     },
     "execution_count": 9,
     "metadata": {},
     "output_type": "execute_result"
    }
   ],
   "source": [
    "centroids  = km.cluster_centers_\n",
    "cent_fridge=centroids\n",
    "cent_fridge"
   ]
  },
  {
   "cell_type": "code",
   "execution_count": 10,
   "id": "a98bbf2f",
   "metadata": {},
   "outputs": [],
   "source": [
    "lambda_fridge = sum(cent_fridge) / len(cent_fridge)"
   ]
  },
  {
   "cell_type": "markdown",
   "id": "843d88db",
   "metadata": {},
   "source": [
    "# Dishwasher"
   ]
  },
  {
   "cell_type": "code",
   "execution_count": 11,
   "id": "b3ffd823",
   "metadata": {},
   "outputs": [],
   "source": [
    "dw = df['Dishwasher']\n",
    "dw = pd.DataFrame(dw)"
   ]
  },
  {
   "cell_type": "code",
   "execution_count": 12,
   "id": "4cb6835f",
   "metadata": {},
   "outputs": [
    {
     "data": {
      "text/plain": [
       "KMeans(n_clusters=2)"
      ]
     },
     "execution_count": 12,
     "metadata": {},
     "output_type": "execute_result"
    }
   ],
   "source": [
    "km = KMeans(n_clusters=2)\n",
    "km.fit(dw)"
   ]
  },
  {
   "cell_type": "code",
   "execution_count": 13,
   "id": "7e08713c",
   "metadata": {},
   "outputs": [
    {
     "data": {
      "text/plain": [
       "array([[   2.43687546],\n",
       "       [2127.81557813]])"
      ]
     },
     "execution_count": 13,
     "metadata": {},
     "output_type": "execute_result"
    }
   ],
   "source": [
    "centroids  = km.cluster_centers_\n",
    "cent_dw=centroids\n",
    "cent_dw"
   ]
  },
  {
   "cell_type": "code",
   "execution_count": 14,
   "id": "22bdb223",
   "metadata": {},
   "outputs": [],
   "source": [
    "lambda_dw = sum(cent_dw) / len(cent_dw)"
   ]
  },
  {
   "cell_type": "markdown",
   "id": "ec7c20a5",
   "metadata": {},
   "source": [
    "# Microwave"
   ]
  },
  {
   "cell_type": "code",
   "execution_count": 15,
   "id": "d140cd41",
   "metadata": {},
   "outputs": [],
   "source": [
    "mw = df['Microwave']\n",
    "mw = pd.DataFrame(mw)"
   ]
  },
  {
   "cell_type": "code",
   "execution_count": 16,
   "id": "693e602c",
   "metadata": {},
   "outputs": [
    {
     "data": {
      "text/plain": [
       "KMeans(n_clusters=2)"
      ]
     },
     "execution_count": 16,
     "metadata": {},
     "output_type": "execute_result"
    }
   ],
   "source": [
    "km = KMeans(n_clusters=2)\n",
    "km.fit(mw)"
   ]
  },
  {
   "cell_type": "code",
   "execution_count": 17,
   "id": "3e972ae9",
   "metadata": {},
   "outputs": [
    {
     "data": {
      "text/plain": [
       "array([[2.66812243e+00],\n",
       "       [7.72357143e+04]])"
      ]
     },
     "execution_count": 17,
     "metadata": {},
     "output_type": "execute_result"
    }
   ],
   "source": [
    "centroids  = km.cluster_centers_\n",
    "cent_mw=centroids\n",
    "cent_mw"
   ]
  },
  {
   "cell_type": "code",
   "execution_count": 18,
   "id": "e63c9c7d",
   "metadata": {},
   "outputs": [],
   "source": [
    "lambda_mw = sum(cent_mw) / len(cent_mw)"
   ]
  },
  {
   "cell_type": "markdown",
   "id": "bae9becb",
   "metadata": {},
   "source": [
    "# Washer Dryer"
   ]
  },
  {
   "cell_type": "code",
   "execution_count": 19,
   "id": "78808231",
   "metadata": {},
   "outputs": [],
   "source": [
    "wd = df['Washer_Dryer']\n",
    "wd = pd.DataFrame(wd)"
   ]
  },
  {
   "cell_type": "code",
   "execution_count": 20,
   "id": "4c8c8731",
   "metadata": {},
   "outputs": [
    {
     "data": {
      "text/plain": [
       "KMeans(n_clusters=2)"
      ]
     },
     "execution_count": 20,
     "metadata": {},
     "output_type": "execute_result"
    }
   ],
   "source": [
    "km = KMeans(n_clusters=2)\n",
    "km.fit(wd)"
   ]
  },
  {
   "cell_type": "code",
   "execution_count": 21,
   "id": "1e1db4b2",
   "metadata": {},
   "outputs": [
    {
     "data": {
      "text/plain": [
       "array([[2.90225083e+01],\n",
       "       [4.80510890e+04]])"
      ]
     },
     "execution_count": 21,
     "metadata": {},
     "output_type": "execute_result"
    }
   ],
   "source": [
    "centroids  = km.cluster_centers_\n",
    "cent_wd=centroids\n",
    "cent_wd"
   ]
  },
  {
   "cell_type": "code",
   "execution_count": 22,
   "id": "61d588af",
   "metadata": {},
   "outputs": [],
   "source": [
    "lambda_wd = sum(cent_wd) / len(cent_wd)"
   ]
  },
  {
   "cell_type": "markdown",
   "id": "db8fca94",
   "metadata": {},
   "source": [
    "## Adding Appliance Status to the Dataframe"
   ]
  },
  {
   "cell_type": "code",
   "execution_count": 23,
   "id": "2891dd13",
   "metadata": {},
   "outputs": [
    {
     "data": {
      "text/plain": [
       "0          0\n",
       "1          0\n",
       "2          0\n",
       "3          0\n",
       "4          0\n",
       "          ..\n",
       "7694942    0\n",
       "7694943    0\n",
       "7694944    0\n",
       "7694945    0\n",
       "7694946    0\n",
       "Name: fridge_stat, Length: 7694947, dtype: int64"
      ]
     },
     "execution_count": 23,
     "metadata": {},
     "output_type": "execute_result"
    }
   ],
   "source": [
    "df['fridge_stats'] = df['Fridge'] - lambda_fridge\n",
    "df['fridge_stat'] = [1 if x >= 0 else 0 for x in df['fridge_stats']]\n",
    "df.fridge_stat"
   ]
  },
  {
   "cell_type": "code",
   "execution_count": 24,
   "id": "fef20c77",
   "metadata": {},
   "outputs": [
    {
     "data": {
      "text/plain": [
       "0          0\n",
       "1          0\n",
       "2          0\n",
       "3          0\n",
       "4          0\n",
       "          ..\n",
       "7694942    0\n",
       "7694943    0\n",
       "7694944    0\n",
       "7694945    0\n",
       "7694946    0\n",
       "Name: dishwasher_stat, Length: 7694947, dtype: int64"
      ]
     },
     "execution_count": 24,
     "metadata": {},
     "output_type": "execute_result"
    }
   ],
   "source": [
    "df['dishwasher_stats'] = df['Dishwasher'] - lambda_dw\n",
    "df['dishwasher_stat'] = [1 if x >= 0 else 0 for x in df['dishwasher_stats']]\n",
    "df.dishwasher_stat"
   ]
  },
  {
   "cell_type": "code",
   "execution_count": 25,
   "id": "5184b631",
   "metadata": {},
   "outputs": [
    {
     "data": {
      "text/plain": [
       "0          0\n",
       "1          0\n",
       "2          0\n",
       "3          0\n",
       "4          0\n",
       "          ..\n",
       "7694942    0\n",
       "7694943    0\n",
       "7694944    0\n",
       "7694945    0\n",
       "7694946    0\n",
       "Name: microwave_stat, Length: 7694947, dtype: int64"
      ]
     },
     "execution_count": 25,
     "metadata": {},
     "output_type": "execute_result"
    }
   ],
   "source": [
    "df['microwave_stats'] = df['Microwave'] - lambda_mw\n",
    "df['microwave_stat'] = [1 if x >= 0 else 0 for x in df['microwave_stats']]\n",
    "df.microwave_stat"
   ]
  },
  {
   "cell_type": "code",
   "execution_count": 26,
   "id": "25406b99",
   "metadata": {},
   "outputs": [
    {
     "data": {
      "text/plain": [
       "0          0\n",
       "1          0\n",
       "2          0\n",
       "3          0\n",
       "4          0\n",
       "          ..\n",
       "7694942    0\n",
       "7694943    0\n",
       "7694944    0\n",
       "7694945    0\n",
       "7694946    0\n",
       "Name: washerdryer_stat, Length: 7694947, dtype: int64"
      ]
     },
     "execution_count": 26,
     "metadata": {},
     "output_type": "execute_result"
    }
   ],
   "source": [
    "df['washerdryer_stats'] = df['Washer_Dryer'] - lambda_wd\n",
    "df['washerdryer_stat'] = [1 if x >= 0 else 0 for x in df['washerdryer_stats']]\n",
    "df.washerdryer_stat"
   ]
  },
  {
   "cell_type": "code",
   "execution_count": 27,
   "id": "95de2ed1",
   "metadata": {},
   "outputs": [],
   "source": [
    "df = df[['Time', 'Mains', 'fridge_stat','dishwasher_stat','microwave_stat','washerdryer_stat']]"
   ]
  },
  {
   "cell_type": "code",
   "execution_count": 28,
   "id": "9b1e6b4b",
   "metadata": {},
   "outputs": [
    {
     "data": {
      "text/html": [
       "<div>\n",
       "<style scoped>\n",
       "    .dataframe tbody tr th:only-of-type {\n",
       "        vertical-align: middle;\n",
       "    }\n",
       "\n",
       "    .dataframe tbody tr th {\n",
       "        vertical-align: top;\n",
       "    }\n",
       "\n",
       "    .dataframe thead th {\n",
       "        text-align: right;\n",
       "    }\n",
       "</style>\n",
       "<table border=\"1\" class=\"dataframe\">\n",
       "  <thead>\n",
       "    <tr style=\"text-align: right;\">\n",
       "      <th></th>\n",
       "      <th>Time</th>\n",
       "      <th>Mains</th>\n",
       "      <th>fridge_stat</th>\n",
       "      <th>dishwasher_stat</th>\n",
       "      <th>microwave_stat</th>\n",
       "      <th>washerdryer_stat</th>\n",
       "    </tr>\n",
       "  </thead>\n",
       "  <tbody>\n",
       "    <tr>\n",
       "      <th>0</th>\n",
       "      <td>2013-09-25 19:21:15</td>\n",
       "      <td>386</td>\n",
       "      <td>0</td>\n",
       "      <td>0</td>\n",
       "      <td>0</td>\n",
       "      <td>0</td>\n",
       "    </tr>\n",
       "    <tr>\n",
       "      <th>1</th>\n",
       "      <td>2013-09-25 19:21:22</td>\n",
       "      <td>383</td>\n",
       "      <td>0</td>\n",
       "      <td>0</td>\n",
       "      <td>0</td>\n",
       "      <td>0</td>\n",
       "    </tr>\n",
       "    <tr>\n",
       "      <th>2</th>\n",
       "      <td>2013-09-25 19:21:30</td>\n",
       "      <td>388</td>\n",
       "      <td>0</td>\n",
       "      <td>0</td>\n",
       "      <td>0</td>\n",
       "      <td>0</td>\n",
       "    </tr>\n",
       "    <tr>\n",
       "      <th>3</th>\n",
       "      <td>2013-09-25 19:21:37</td>\n",
       "      <td>388</td>\n",
       "      <td>0</td>\n",
       "      <td>0</td>\n",
       "      <td>0</td>\n",
       "      <td>0</td>\n",
       "    </tr>\n",
       "    <tr>\n",
       "      <th>4</th>\n",
       "      <td>2013-09-25 19:21:43</td>\n",
       "      <td>388</td>\n",
       "      <td>0</td>\n",
       "      <td>0</td>\n",
       "      <td>0</td>\n",
       "      <td>0</td>\n",
       "    </tr>\n",
       "  </tbody>\n",
       "</table>\n",
       "</div>"
      ],
      "text/plain": [
       "                 Time  Mains  fridge_stat  dishwasher_stat  microwave_stat  \\\n",
       "0 2013-09-25 19:21:15    386            0                0               0   \n",
       "1 2013-09-25 19:21:22    383            0                0               0   \n",
       "2 2013-09-25 19:21:30    388            0                0               0   \n",
       "3 2013-09-25 19:21:37    388            0                0               0   \n",
       "4 2013-09-25 19:21:43    388            0                0               0   \n",
       "\n",
       "   washerdryer_stat  \n",
       "0                 0  \n",
       "1                 0  \n",
       "2                 0  \n",
       "3                 0  \n",
       "4                 0  "
      ]
     },
     "execution_count": 28,
     "metadata": {},
     "output_type": "execute_result"
    }
   ],
   "source": [
    "df.head(5)"
   ]
  },
  {
   "cell_type": "code",
   "execution_count": 29,
   "id": "fae15799",
   "metadata": {},
   "outputs": [],
   "source": [
    "ddf = df.reset_index() # same as df.reset_index(level=0)\n",
    "ddf.to_csv('House3 Refit with operational status (MPT).csv', index = False) # this is for house 1 of the low frequency REDD dataset"
   ]
  },
  {
   "cell_type": "code",
   "execution_count": null,
   "id": "f80e09ab",
   "metadata": {},
   "outputs": [],
   "source": []
  }
 ],
 "metadata": {
  "kernelspec": {
   "display_name": "Python 3 (ipykernel)",
   "language": "python",
   "name": "python3"
  },
  "language_info": {
   "codemirror_mode": {
    "name": "ipython",
    "version": 3
   },
   "file_extension": ".py",
   "mimetype": "text/x-python",
   "name": "python",
   "nbconvert_exporter": "python",
   "pygments_lexer": "ipython3",
   "version": "3.9.13"
  }
 },
 "nbformat": 4,
 "nbformat_minor": 5
}
