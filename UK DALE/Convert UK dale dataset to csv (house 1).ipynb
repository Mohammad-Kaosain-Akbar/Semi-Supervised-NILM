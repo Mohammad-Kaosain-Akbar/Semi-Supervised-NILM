{
 "cells": [
  {
   "cell_type": "code",
   "execution_count": 18,
   "id": "94be710e",
   "metadata": {},
   "outputs": [],
   "source": [
    "import pandas as pd\n",
    "import os"
   ]
  },
  {
   "cell_type": "code",
   "execution_count": 11,
   "id": "c3b45090",
   "metadata": {},
   "outputs": [],
   "source": [
    "# Define the directory path for the input data files and the output file  \n",
    "## for house 2, replace and change the path to house 2\n",
    "\n",
    "input_dir = 'path/to/ukdale/house_1/'\n",
    "output_file = 'path/to/ukdale/house_1.csv'"
   ]
  },
  {
   "cell_type": "code",
   "execution_count": 12,
   "id": "90ce44fe",
   "metadata": {},
   "outputs": [],
   "source": [
    "# Create an empty list to store the dataframes for each channel\n",
    "dfs = []"
   ]
  },
  {
   "cell_type": "code",
   "execution_count": 15,
   "id": "d40212fc",
   "metadata": {},
   "outputs": [],
   "source": [
    " Loop over each data file in the input directory\n",
    "for filename in os.listdir(input_dir):\n",
    "    if filename.endswith('.dat'):\n",
    "        # Load the dataset file into a Pandas dataframe\n",
    "        channel = int(filename.split('.')[0].split('_')[1])\n",
    "        filepath = os.path.join(input_dir, filename)\n",
    "        data = pd.read_csv(filepath, sep=' ', header=None, names=['Date', 'Time', 'Power'], index_col=False)\n",
    "\n",
    "        # Combine date and time columns into a single timestamp column\n",
    "        data['Timestamp'] = pd.to_datetime(data['Date'].astype(str) + ' ' + data['Time'].astype(str), format='%Y-%m-%d %H:%M:%S.%f')\n",
    "\n",
    "        # Drop the original date and time columns\n",
    "        data.drop(['Date', 'Time'], axis=1, inplace=True)\n",
    "\n",
    "        # Add the channel dataframe to the list\n",
    "        dfs.append(data)"
   ]
  },
  {
   "cell_type": "code",
   "execution_count": 17,
   "id": "ebd1078a",
   "metadata": {},
   "outputs": [],
   "source": [
    "# Concatenate the dataframes for each channel into a single dataframe\n",
    "combined_data = pd.concat(dfs, axis=0)\n",
    "\n",
    "# Save the combined dataframe as a CSV file\n",
    "combined_data.to_csv(output_file, index=False)"
   ]
  }
 ],
 "metadata": {
  "kernelspec": {
   "display_name": "Python 3 (ipykernel)",
   "language": "python",
   "name": "python3"
  },
  "language_info": {
   "codemirror_mode": {
    "name": "ipython",
    "version": 3
   },
   "file_extension": ".py",
   "mimetype": "text/x-python",
   "name": "python",
   "nbconvert_exporter": "python",
   "pygments_lexer": "ipython3",
   "version": "3.9.13"
  }
 },
 "nbformat": 4,
 "nbformat_minor": 5
}
