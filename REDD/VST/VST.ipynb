{
 "cells": [
  {
   "cell_type": "code",
   "execution_count": 766,
   "id": "c4521f80",
   "metadata": {},
   "outputs": [],
   "source": [
    "import numpy as np\n",
    "import pandas as pd\n",
    "import matplotlib.pyplot as plt\n",
    "%matplotlib inline\n",
    "from IPython.display import display\n",
    "import datetime\n",
    "import time\n",
    "import math\n",
    "import warnings\n",
    "warnings.filterwarnings(\"ignore\")\n",
    "import glob"
   ]
  },
  {
   "cell_type": "code",
   "execution_count": 767,
   "id": "17844521",
   "metadata": {
    "scrolled": true
   },
   "outputs": [
    {
     "name": "stdout",
     "output_type": "stream",
     "text": [
      "<class 'pandas.core.frame.DataFrame'>\n",
      "RangeIndex: 406748 entries, 0 to 406747\n",
      "Data columns (total 9 columns):\n",
      " #   Column          Non-Null Count   Dtype  \n",
      "---  ------          --------------   -----  \n",
      " 0   Time            406748 non-null  object \n",
      " 1   mains_1         406748 non-null  float64\n",
      " 2   mains_2         406748 non-null  float64\n",
      " 3   refrigerator_3  406748 non-null  float64\n",
      " 4   dishwaser_4     406748 non-null  float64\n",
      " 5   washer_dryer_5  406748 non-null  float64\n",
      " 6   microwave_6     406748 non-null  float64\n",
      " 7   washer_dryer_7  406748 non-null  float64\n",
      " 8   washer_dryer_8  406748 non-null  float64\n",
      "dtypes: float64(8), object(1)\n",
      "memory usage: 27.9+ MB\n"
     ]
    }
   ],
   "source": [
    "house1 = pd.read_csv('House1.csv')\n",
    "house1.info()"
   ]
  },
  {
   "cell_type": "code",
   "execution_count": 768,
   "id": "91a1678f",
   "metadata": {},
   "outputs": [
    {
     "name": "stdout",
     "output_type": "stream",
     "text": [
      "House 1 data contain 23 days from 2011-04-18 to 2011-05-24.\n"
     ]
    }
   ],
   "source": [
    "dates = {}\n",
    "dates = [str(time)[:10] for time in house1.Time.values]\n",
    "dates = sorted(list(set(dates)))\n",
    "print('House {0} data contain {1} days from {2} to {3}.'.format(1,len(dates),dates[0], dates[-1]))"
   ]
  },
  {
   "cell_type": "code",
   "execution_count": 769,
   "id": "98ac4c4a",
   "metadata": {},
   "outputs": [
    {
     "data": {
      "text/html": [
       "<div>\n",
       "<style scoped>\n",
       "    .dataframe tbody tr th:only-of-type {\n",
       "        vertical-align: middle;\n",
       "    }\n",
       "\n",
       "    .dataframe tbody tr th {\n",
       "        vertical-align: top;\n",
       "    }\n",
       "\n",
       "    .dataframe thead th {\n",
       "        text-align: right;\n",
       "    }\n",
       "</style>\n",
       "<table border=\"1\" class=\"dataframe\">\n",
       "  <thead>\n",
       "    <tr style=\"text-align: right;\">\n",
       "      <th></th>\n",
       "      <th>Time</th>\n",
       "      <th>refrigerator_3</th>\n",
       "      <th>dishwaser_4</th>\n",
       "      <th>microwave_6</th>\n",
       "      <th>washer_dryer</th>\n",
       "      <th>mains</th>\n",
       "    </tr>\n",
       "  </thead>\n",
       "  <tbody>\n",
       "    <tr>\n",
       "      <th>0</th>\n",
       "      <td>2011-04-18 13:22:13</td>\n",
       "      <td>6.0</td>\n",
       "      <td>0.0</td>\n",
       "      <td>5.0</td>\n",
       "      <td>0.0</td>\n",
       "      <td>341.03</td>\n",
       "    </tr>\n",
       "    <tr>\n",
       "      <th>1</th>\n",
       "      <td>2011-04-18 13:22:16</td>\n",
       "      <td>6.0</td>\n",
       "      <td>0.0</td>\n",
       "      <td>5.0</td>\n",
       "      <td>0.0</td>\n",
       "      <td>342.36</td>\n",
       "    </tr>\n",
       "  </tbody>\n",
       "</table>\n",
       "</div>"
      ],
      "text/plain": [
       "                  Time  refrigerator_3  dishwaser_4  microwave_6  \\\n",
       "0  2011-04-18 13:22:13             6.0          0.0          5.0   \n",
       "1  2011-04-18 13:22:16             6.0          0.0          5.0   \n",
       "\n",
       "   washer_dryer   mains  \n",
       "0           0.0  341.03  \n",
       "1           0.0  342.36  "
      ]
     },
     "execution_count": 769,
     "metadata": {},
     "output_type": "execute_result"
    }
   ],
   "source": [
    "house1['washer_dryer'] = house1['washer_dryer_5'] + house1['washer_dryer_7'] + house1['washer_dryer_8']\n",
    "house1['mains'] = house1['mains_1']+house1['mains_2']\n",
    "del house1['washer_dryer_5']\n",
    "del house1['washer_dryer_7']\n",
    "del house1['washer_dryer_8']\n",
    "del house1['mains_1']\n",
    "del house1['mains_2']\n",
    "house1.head(2)"
   ]
  },
  {
   "cell_type": "markdown",
   "id": "617bc5a4",
   "metadata": {},
   "source": [
    "# HOUSE 1"
   ]
  },
  {
   "cell_type": "code",
   "execution_count": 770,
   "id": "52a0ad45",
   "metadata": {},
   "outputs": [],
   "source": [
    "from sklearn.cluster import KMeans"
   ]
  },
  {
   "cell_type": "markdown",
   "id": "ca24689b",
   "metadata": {},
   "source": [
    "### Fridge"
   ]
  },
  {
   "cell_type": "code",
   "execution_count": 771,
   "id": "45f986af",
   "metadata": {},
   "outputs": [],
   "source": [
    "fridge = house1['refrigerator_3']\n",
    "fridge = pd.DataFrame(fridge)"
   ]
  },
  {
   "cell_type": "code",
   "execution_count": 772,
   "id": "bad54f99",
   "metadata": {},
   "outputs": [
    {
     "data": {
      "text/plain": [
       "KMeans(n_clusters=2)"
      ]
     },
     "execution_count": 772,
     "metadata": {},
     "output_type": "execute_result"
    }
   ],
   "source": [
    "km = KMeans(n_clusters=2)\n",
    "km.fit(fridge)"
   ]
  },
  {
   "cell_type": "code",
   "execution_count": 773,
   "id": "daa6a40f",
   "metadata": {},
   "outputs": [
    {
     "data": {
      "text/plain": [
       "array([[  6.65272656],\n",
       "       [201.06403671]])"
      ]
     },
     "execution_count": 773,
     "metadata": {},
     "output_type": "execute_result"
    }
   ],
   "source": [
    "centroids  = km.cluster_centers_\n",
    "cent_fridge=centroids\n",
    "cent_fridge"
   ]
  },
  {
   "cell_type": "code",
   "execution_count": 774,
   "id": "a52173d0",
   "metadata": {},
   "outputs": [],
   "source": [
    "labels = km.labels_\n",
    "labels = pd.DataFrame (labels, columns = ['fridge_label'])\n",
    "\n",
    "dummy = house1\n",
    "dummy = dummy.join(labels)\n",
    "\n",
    "test = dummy[['refrigerator_3','fridge_label']] \n",
    "\n",
    "on = test[test['fridge_label'] == 1] ## on status\n",
    "on = on['refrigerator_3'].std() \n",
    "\n",
    "off = test[test['fridge_label'] == 0] ## on status\n",
    "off = off['refrigerator_3'].std() "
   ]
  },
  {
   "cell_type": "code",
   "execution_count": 775,
   "id": "a4fad467",
   "metadata": {},
   "outputs": [],
   "source": [
    "d = off/(on+off)\n",
    "lambda_fridge = ((1.0-d)*(cent_fridge[0]))+(d*cent_fridge[1])"
   ]
  },
  {
   "cell_type": "markdown",
   "id": "c40fec2f",
   "metadata": {},
   "source": [
    "### Dishwasher (DW)"
   ]
  },
  {
   "cell_type": "code",
   "execution_count": 776,
   "id": "236fa7ca",
   "metadata": {},
   "outputs": [],
   "source": [
    "dw = house1['dishwaser_4']\n",
    "dw = pd.DataFrame(dw)"
   ]
  },
  {
   "cell_type": "code",
   "execution_count": 777,
   "id": "da530c6c",
   "metadata": {},
   "outputs": [
    {
     "data": {
      "text/plain": [
       "KMeans(n_clusters=2)"
      ]
     },
     "execution_count": 777,
     "metadata": {},
     "output_type": "execute_result"
    }
   ],
   "source": [
    "km = KMeans(n_clusters=2)\n",
    "km.fit(dw)"
   ]
  },
  {
   "cell_type": "code",
   "execution_count": 778,
   "id": "0990db6e",
   "metadata": {},
   "outputs": [
    {
     "data": {
      "text/plain": [
       "array([[   5.35537745],\n",
       "       [1085.4334193 ]])"
      ]
     },
     "execution_count": 778,
     "metadata": {},
     "output_type": "execute_result"
    }
   ],
   "source": [
    "centroids  = km.cluster_centers_\n",
    "cent_dw=centroids\n",
    "cent_dw"
   ]
  },
  {
   "cell_type": "code",
   "execution_count": 779,
   "id": "911186fa",
   "metadata": {},
   "outputs": [],
   "source": [
    "labels = km.labels_\n",
    "labels = pd.DataFrame (labels, columns = ['dw_label'])\n",
    "\n",
    "dummy = house1\n",
    "dummy = dummy.join(labels)\n",
    "\n",
    "test = dummy[['dishwaser_4','dw_label']] \n",
    "\n",
    "on = test[test['dw_label'] == 1] ## on status\n",
    "on = on['dishwaser_4'].std() \n",
    "\n",
    "off = test[test['dw_label'] == 0] ## off status\n",
    "off = off['dishwaser_4'].std() "
   ]
  },
  {
   "cell_type": "code",
   "execution_count": 780,
   "id": "b28fd28e",
   "metadata": {},
   "outputs": [],
   "source": [
    "d = off/(on+off)\n",
    "lambda_dw = ((1.0-d)*(cent_dw[0]))+(d*cent_dw[1])"
   ]
  },
  {
   "cell_type": "markdown",
   "id": "0ee708ef",
   "metadata": {},
   "source": [
    "### Microwave (MW)"
   ]
  },
  {
   "cell_type": "code",
   "execution_count": 781,
   "id": "43b21240",
   "metadata": {},
   "outputs": [],
   "source": [
    "mw = house1['microwave_6']\n",
    "mw = pd.DataFrame(mw)"
   ]
  },
  {
   "cell_type": "code",
   "execution_count": 782,
   "id": "5f36ff7d",
   "metadata": {},
   "outputs": [
    {
     "data": {
      "text/plain": [
       "KMeans(n_clusters=2)"
      ]
     },
     "execution_count": 782,
     "metadata": {},
     "output_type": "execute_result"
    }
   ],
   "source": [
    "km = KMeans(n_clusters=2)\n",
    "km.fit(mw)"
   ]
  },
  {
   "cell_type": "code",
   "execution_count": 783,
   "id": "99cf073c",
   "metadata": {},
   "outputs": [
    {
     "data": {
      "text/plain": [
       "array([[   4.31099539],\n",
       "       [1520.22549834]])"
      ]
     },
     "execution_count": 783,
     "metadata": {},
     "output_type": "execute_result"
    }
   ],
   "source": [
    "centroids  = km.cluster_centers_\n",
    "cent_mw=centroids\n",
    "cent_mw"
   ]
  },
  {
   "cell_type": "code",
   "execution_count": 784,
   "id": "66c1eccc",
   "metadata": {},
   "outputs": [],
   "source": [
    "labels = km.labels_\n",
    "labels = pd.DataFrame (labels, columns = ['mw_label'])\n",
    "\n",
    "dummy = house1\n",
    "dummy = dummy.join(labels)\n",
    "\n",
    "test = dummy[['microwave_6','mw_label']] \n",
    "\n",
    "on = test[test['mw_label'] == 1] ## on status\n",
    "on = on['microwave_6'].std() \n",
    "\n",
    "off = test[test['mw_label'] == 0] ## on status\n",
    "off = off['microwave_6'].std() "
   ]
  },
  {
   "cell_type": "code",
   "execution_count": 785,
   "id": "fc731c87",
   "metadata": {},
   "outputs": [],
   "source": [
    "d = off/(on+off)\n",
    "lambda_mw = ((1.0-d)*(cent_mw[0]))+(d*cent_mw[1])"
   ]
  },
  {
   "cell_type": "markdown",
   "id": "06b8688a",
   "metadata": {},
   "source": [
    "### Washer Dryer"
   ]
  },
  {
   "cell_type": "code",
   "execution_count": 786,
   "id": "b312f741",
   "metadata": {},
   "outputs": [],
   "source": [
    "wd = house1['washer_dryer']\n",
    "wd = pd.DataFrame(wd)"
   ]
  },
  {
   "cell_type": "code",
   "execution_count": 787,
   "id": "47da1a46",
   "metadata": {},
   "outputs": [
    {
     "data": {
      "text/plain": [
       "KMeans(n_clusters=2)"
      ]
     },
     "execution_count": 787,
     "metadata": {},
     "output_type": "execute_result"
    }
   ],
   "source": [
    "km = KMeans(n_clusters=2)\n",
    "km.fit(wd)"
   ]
  },
  {
   "cell_type": "code",
   "execution_count": 788,
   "id": "21ae492e",
   "metadata": {},
   "outputs": [
    {
     "data": {
      "text/plain": [
       "array([[2.61673342e+00],\n",
       "       [2.81289642e+03]])"
      ]
     },
     "execution_count": 788,
     "metadata": {},
     "output_type": "execute_result"
    }
   ],
   "source": [
    "centroids  = km.cluster_centers_\n",
    "cent_wd=centroids\n",
    "cent_wd"
   ]
  },
  {
   "cell_type": "code",
   "execution_count": 789,
   "id": "36ea4730",
   "metadata": {},
   "outputs": [],
   "source": [
    "labels = km.labels_\n",
    "labels = pd.DataFrame (labels, columns = ['wd_label'])\n",
    "\n",
    "dummy = house1\n",
    "dummy = dummy.join(labels)\n",
    "\n",
    "test = dummy[['washer_dryer','wd_label']] \n",
    "\n",
    "on = test[test['wd_label'] == 1] ## on status\n",
    "on = on['washer_dryer'].std() \n",
    "\n",
    "off = test[test['wd_label'] == 0] ## on status\n",
    "off = off['washer_dryer'].std() "
   ]
  },
  {
   "cell_type": "code",
   "execution_count": 790,
   "id": "f963fc6a",
   "metadata": {},
   "outputs": [],
   "source": [
    "d = off/(on+off)\n",
    "lambda_wd = ((1.0-d)*(cent_wd[0]))+(d*cent_wd[1])"
   ]
  },
  {
   "cell_type": "markdown",
   "id": "ad427df0",
   "metadata": {},
   "source": [
    "## Adding Appliance Status to the Dataframe"
   ]
  },
  {
   "cell_type": "code",
   "execution_count": 791,
   "id": "5c608ab3",
   "metadata": {},
   "outputs": [
    {
     "data": {
      "text/plain": [
       "0         0\n",
       "1         0\n",
       "2         0\n",
       "3         0\n",
       "4         0\n",
       "         ..\n",
       "406743    1\n",
       "406744    1\n",
       "406745    1\n",
       "406746    1\n",
       "406747    1\n",
       "Name: fridge_stat, Length: 406748, dtype: int64"
      ]
     },
     "execution_count": 791,
     "metadata": {},
     "output_type": "execute_result"
    }
   ],
   "source": [
    "house1['fridge_stats'] = house1['refrigerator_3'] - lambda_fridge\n",
    "house1['fridge_stat'] = [1 if x >= 0 else 0 for x in house1['fridge_stats']]\n",
    "house1.fridge_stat"
   ]
  },
  {
   "cell_type": "code",
   "execution_count": 792,
   "id": "9bdeb644",
   "metadata": {},
   "outputs": [
    {
     "data": {
      "text/plain": [
       "0         0\n",
       "1         0\n",
       "2         0\n",
       "3         0\n",
       "4         0\n",
       "         ..\n",
       "406743    0\n",
       "406744    0\n",
       "406745    0\n",
       "406746    0\n",
       "406747    0\n",
       "Name: dishwasher_stat, Length: 406748, dtype: int64"
      ]
     },
     "execution_count": 792,
     "metadata": {},
     "output_type": "execute_result"
    }
   ],
   "source": [
    "house1['dishwasher_stats'] = house1['dishwaser_4'] - lambda_dw\n",
    "house1['dishwasher_stat'] = [1 if x >= 0 else 0 for x in house1['dishwasher_stats']]\n",
    "house1.dishwasher_stat"
   ]
  },
  {
   "cell_type": "code",
   "execution_count": 793,
   "id": "d559407d",
   "metadata": {},
   "outputs": [
    {
     "data": {
      "text/plain": [
       "0         0\n",
       "1         0\n",
       "2         0\n",
       "3         0\n",
       "4         0\n",
       "         ..\n",
       "406743    0\n",
       "406744    0\n",
       "406745    0\n",
       "406746    0\n",
       "406747    0\n",
       "Name: microwave_stat, Length: 406748, dtype: int64"
      ]
     },
     "execution_count": 793,
     "metadata": {},
     "output_type": "execute_result"
    }
   ],
   "source": [
    "house1['microwave_stats'] = house1['microwave_6'] - lambda_mw\n",
    "house1['microwave_stat'] = [1 if x >= 0 else 0 for x in house1['microwave_stats']]\n",
    "house1.microwave_stat"
   ]
  },
  {
   "cell_type": "code",
   "execution_count": 794,
   "id": "1b6d85df",
   "metadata": {},
   "outputs": [
    {
     "data": {
      "text/plain": [
       "0         0\n",
       "1         0\n",
       "2         0\n",
       "3         0\n",
       "4         0\n",
       "         ..\n",
       "406743    0\n",
       "406744    0\n",
       "406745    0\n",
       "406746    0\n",
       "406747    0\n",
       "Name: washerdryer_stat, Length: 406748, dtype: int64"
      ]
     },
     "execution_count": 794,
     "metadata": {},
     "output_type": "execute_result"
    }
   ],
   "source": [
    "house1['washerdryer_stats'] = house1['washer_dryer'] - lambda_wd\n",
    "house1['washerdryer_stat'] = [1 if x >= 0 else 0 for x in house1['washerdryer_stats']]\n",
    "house1.washerdryer_stat"
   ]
  },
  {
   "cell_type": "code",
   "execution_count": 795,
   "id": "b2f8d7af",
   "metadata": {
    "scrolled": true
   },
   "outputs": [
    {
     "data": {
      "text/html": [
       "<div>\n",
       "<style scoped>\n",
       "    .dataframe tbody tr th:only-of-type {\n",
       "        vertical-align: middle;\n",
       "    }\n",
       "\n",
       "    .dataframe tbody tr th {\n",
       "        vertical-align: top;\n",
       "    }\n",
       "\n",
       "    .dataframe thead th {\n",
       "        text-align: right;\n",
       "    }\n",
       "</style>\n",
       "<table border=\"1\" class=\"dataframe\">\n",
       "  <thead>\n",
       "    <tr style=\"text-align: right;\">\n",
       "      <th></th>\n",
       "      <th>Time</th>\n",
       "      <th>mains</th>\n",
       "      <th>fridge_stat</th>\n",
       "      <th>dishwasher_stat</th>\n",
       "      <th>microwave_stat</th>\n",
       "      <th>washerdryer_stat</th>\n",
       "    </tr>\n",
       "  </thead>\n",
       "  <tbody>\n",
       "    <tr>\n",
       "      <th>0</th>\n",
       "      <td>2011-04-18 13:22:13</td>\n",
       "      <td>341.03</td>\n",
       "      <td>0</td>\n",
       "      <td>0</td>\n",
       "      <td>0</td>\n",
       "      <td>0</td>\n",
       "    </tr>\n",
       "    <tr>\n",
       "      <th>1</th>\n",
       "      <td>2011-04-18 13:22:16</td>\n",
       "      <td>342.36</td>\n",
       "      <td>0</td>\n",
       "      <td>0</td>\n",
       "      <td>0</td>\n",
       "      <td>0</td>\n",
       "    </tr>\n",
       "    <tr>\n",
       "      <th>2</th>\n",
       "      <td>2011-04-18 13:22:20</td>\n",
       "      <td>342.52</td>\n",
       "      <td>0</td>\n",
       "      <td>0</td>\n",
       "      <td>0</td>\n",
       "      <td>0</td>\n",
       "    </tr>\n",
       "    <tr>\n",
       "      <th>3</th>\n",
       "      <td>2011-04-18 13:22:23</td>\n",
       "      <td>342.07</td>\n",
       "      <td>0</td>\n",
       "      <td>0</td>\n",
       "      <td>0</td>\n",
       "      <td>0</td>\n",
       "    </tr>\n",
       "    <tr>\n",
       "      <th>4</th>\n",
       "      <td>2011-04-18 13:22:26</td>\n",
       "      <td>341.77</td>\n",
       "      <td>0</td>\n",
       "      <td>0</td>\n",
       "      <td>0</td>\n",
       "      <td>0</td>\n",
       "    </tr>\n",
       "    <tr>\n",
       "      <th>...</th>\n",
       "      <td>...</td>\n",
       "      <td>...</td>\n",
       "      <td>...</td>\n",
       "      <td>...</td>\n",
       "      <td>...</td>\n",
       "      <td>...</td>\n",
       "    </tr>\n",
       "    <tr>\n",
       "      <th>406743</th>\n",
       "      <td>2011-05-24 19:56:20</td>\n",
       "      <td>274.38</td>\n",
       "      <td>1</td>\n",
       "      <td>0</td>\n",
       "      <td>0</td>\n",
       "      <td>0</td>\n",
       "    </tr>\n",
       "    <tr>\n",
       "      <th>406744</th>\n",
       "      <td>2011-05-24 19:56:23</td>\n",
       "      <td>273.69</td>\n",
       "      <td>1</td>\n",
       "      <td>0</td>\n",
       "      <td>0</td>\n",
       "      <td>0</td>\n",
       "    </tr>\n",
       "    <tr>\n",
       "      <th>406745</th>\n",
       "      <td>2011-05-24 19:56:27</td>\n",
       "      <td>274.07</td>\n",
       "      <td>1</td>\n",
       "      <td>0</td>\n",
       "      <td>0</td>\n",
       "      <td>0</td>\n",
       "    </tr>\n",
       "    <tr>\n",
       "      <th>406746</th>\n",
       "      <td>2011-05-24 19:56:30</td>\n",
       "      <td>274.75</td>\n",
       "      <td>1</td>\n",
       "      <td>0</td>\n",
       "      <td>0</td>\n",
       "      <td>0</td>\n",
       "    </tr>\n",
       "    <tr>\n",
       "      <th>406747</th>\n",
       "      <td>2011-05-24 19:56:34</td>\n",
       "      <td>274.12</td>\n",
       "      <td>1</td>\n",
       "      <td>0</td>\n",
       "      <td>0</td>\n",
       "      <td>0</td>\n",
       "    </tr>\n",
       "  </tbody>\n",
       "</table>\n",
       "<p>406748 rows × 6 columns</p>\n",
       "</div>"
      ],
      "text/plain": [
       "                       Time   mains  fridge_stat  dishwasher_stat  \\\n",
       "0       2011-04-18 13:22:13  341.03            0                0   \n",
       "1       2011-04-18 13:22:16  342.36            0                0   \n",
       "2       2011-04-18 13:22:20  342.52            0                0   \n",
       "3       2011-04-18 13:22:23  342.07            0                0   \n",
       "4       2011-04-18 13:22:26  341.77            0                0   \n",
       "...                     ...     ...          ...              ...   \n",
       "406743  2011-05-24 19:56:20  274.38            1                0   \n",
       "406744  2011-05-24 19:56:23  273.69            1                0   \n",
       "406745  2011-05-24 19:56:27  274.07            1                0   \n",
       "406746  2011-05-24 19:56:30  274.75            1                0   \n",
       "406747  2011-05-24 19:56:34  274.12            1                0   \n",
       "\n",
       "        microwave_stat  washerdryer_stat  \n",
       "0                    0                 0  \n",
       "1                    0                 0  \n",
       "2                    0                 0  \n",
       "3                    0                 0  \n",
       "4                    0                 0  \n",
       "...                ...               ...  \n",
       "406743               0                 0  \n",
       "406744               0                 0  \n",
       "406745               0                 0  \n",
       "406746               0                 0  \n",
       "406747               0                 0  \n",
       "\n",
       "[406748 rows x 6 columns]"
      ]
     },
     "execution_count": 795,
     "metadata": {},
     "output_type": "execute_result"
    }
   ],
   "source": [
    "del house1['fridge_stats']\n",
    "del house1['dishwasher_stats']\n",
    "del house1['microwave_stats']\n",
    "del house1['washerdryer_stats']\n",
    "\n",
    "del house1['refrigerator_3']\n",
    "del house1['dishwaser_4']\n",
    "del house1['microwave_6']\n",
    "del house1['washer_dryer']\n",
    "\n",
    "house1"
   ]
  },
  {
   "cell_type": "code",
   "execution_count": 796,
   "id": "667a13b6",
   "metadata": {
    "scrolled": false
   },
   "outputs": [
    {
     "data": {
      "text/html": [
       "<div>\n",
       "<style scoped>\n",
       "    .dataframe tbody tr th:only-of-type {\n",
       "        vertical-align: middle;\n",
       "    }\n",
       "\n",
       "    .dataframe tbody tr th {\n",
       "        vertical-align: top;\n",
       "    }\n",
       "\n",
       "    .dataframe thead th {\n",
       "        text-align: right;\n",
       "    }\n",
       "</style>\n",
       "<table border=\"1\" class=\"dataframe\">\n",
       "  <thead>\n",
       "    <tr style=\"text-align: right;\">\n",
       "      <th></th>\n",
       "      <th>mains</th>\n",
       "      <th>fridge_stat</th>\n",
       "      <th>dishwasher_stat</th>\n",
       "      <th>microwave_stat</th>\n",
       "      <th>washerdryer_stat</th>\n",
       "    </tr>\n",
       "  </thead>\n",
       "  <tbody>\n",
       "    <tr>\n",
       "      <th>count</th>\n",
       "      <td>406748.000000</td>\n",
       "      <td>406748.000000</td>\n",
       "      <td>406748.000000</td>\n",
       "      <td>406748.000000</td>\n",
       "      <td>406748.000000</td>\n",
       "    </tr>\n",
       "    <tr>\n",
       "      <th>mean</th>\n",
       "      <td>383.496417</td>\n",
       "      <td>0.254342</td>\n",
       "      <td>0.023260</td>\n",
       "      <td>0.012288</td>\n",
       "      <td>0.015727</td>\n",
       "    </tr>\n",
       "    <tr>\n",
       "      <th>std</th>\n",
       "      <td>778.299465</td>\n",
       "      <td>0.435491</td>\n",
       "      <td>0.150729</td>\n",
       "      <td>0.110167</td>\n",
       "      <td>0.124418</td>\n",
       "    </tr>\n",
       "    <tr>\n",
       "      <th>min</th>\n",
       "      <td>90.930000</td>\n",
       "      <td>0.000000</td>\n",
       "      <td>0.000000</td>\n",
       "      <td>0.000000</td>\n",
       "      <td>0.000000</td>\n",
       "    </tr>\n",
       "    <tr>\n",
       "      <th>25%</th>\n",
       "      <td>140.157500</td>\n",
       "      <td>0.000000</td>\n",
       "      <td>0.000000</td>\n",
       "      <td>0.000000</td>\n",
       "      <td>0.000000</td>\n",
       "    </tr>\n",
       "    <tr>\n",
       "      <th>50%</th>\n",
       "      <td>177.050000</td>\n",
       "      <td>0.000000</td>\n",
       "      <td>0.000000</td>\n",
       "      <td>0.000000</td>\n",
       "      <td>0.000000</td>\n",
       "    </tr>\n",
       "    <tr>\n",
       "      <th>75%</th>\n",
       "      <td>349.240000</td>\n",
       "      <td>1.000000</td>\n",
       "      <td>0.000000</td>\n",
       "      <td>0.000000</td>\n",
       "      <td>0.000000</td>\n",
       "    </tr>\n",
       "    <tr>\n",
       "      <th>max</th>\n",
       "      <td>11926.560000</td>\n",
       "      <td>1.000000</td>\n",
       "      <td>1.000000</td>\n",
       "      <td>1.000000</td>\n",
       "      <td>1.000000</td>\n",
       "    </tr>\n",
       "  </tbody>\n",
       "</table>\n",
       "</div>"
      ],
      "text/plain": [
       "               mains    fridge_stat  dishwasher_stat  microwave_stat  \\\n",
       "count  406748.000000  406748.000000    406748.000000   406748.000000   \n",
       "mean      383.496417       0.254342         0.023260        0.012288   \n",
       "std       778.299465       0.435491         0.150729        0.110167   \n",
       "min        90.930000       0.000000         0.000000        0.000000   \n",
       "25%       140.157500       0.000000         0.000000        0.000000   \n",
       "50%       177.050000       0.000000         0.000000        0.000000   \n",
       "75%       349.240000       1.000000         0.000000        0.000000   \n",
       "max     11926.560000       1.000000         1.000000        1.000000   \n",
       "\n",
       "       washerdryer_stat  \n",
       "count     406748.000000  \n",
       "mean           0.015727  \n",
       "std            0.124418  \n",
       "min            0.000000  \n",
       "25%            0.000000  \n",
       "50%            0.000000  \n",
       "75%            0.000000  \n",
       "max            1.000000  "
      ]
     },
     "execution_count": 796,
     "metadata": {},
     "output_type": "execute_result"
    }
   ],
   "source": [
    "house1.describe()"
   ]
  },
  {
   "cell_type": "code",
   "execution_count": 797,
   "id": "29fad06b",
   "metadata": {},
   "outputs": [],
   "source": [
    "ddf = house1.reset_index() # same as df.reset_index(level=0)\n",
    "ddf.to_csv('House1 with operational status.csv', index = False) # this is for house 1 of the low frequency REDD dataset"
   ]
  },
  {
   "cell_type": "markdown",
   "id": "ca5b5470",
   "metadata": {},
   "source": [
    "# HOUSE 3"
   ]
  },
  {
   "cell_type": "code",
   "execution_count": 798,
   "id": "7a84ebbd",
   "metadata": {},
   "outputs": [
    {
     "name": "stdout",
     "output_type": "stream",
     "text": [
      "<class 'pandas.core.frame.DataFrame'>\n",
      "RangeIndex: 376150 entries, 0 to 376149\n",
      "Data columns (total 8 columns):\n",
      " #   Column          Non-Null Count   Dtype  \n",
      "---  ------          --------------   -----  \n",
      " 0   Time            376150 non-null  object \n",
      " 1   mains_1         376150 non-null  float64\n",
      " 2   mains_2         376150 non-null  float64\n",
      " 3   refrigerator_3  376150 non-null  float64\n",
      " 4   dishwaser_4     376150 non-null  float64\n",
      " 5   washer_dryer_5  376150 non-null  float64\n",
      " 6   washer_dryer_6  376150 non-null  float64\n",
      " 7   microwave_7     376150 non-null  float64\n",
      "dtypes: float64(7), object(1)\n",
      "memory usage: 23.0+ MB\n"
     ]
    }
   ],
   "source": [
    "house3 = pd.read_csv('House3.csv')\n",
    "house3.info()"
   ]
  },
  {
   "cell_type": "code",
   "execution_count": 799,
   "id": "bbad93df",
   "metadata": {},
   "outputs": [
    {
     "name": "stdout",
     "output_type": "stream",
     "text": [
      "House 1 data contain 23 days from 2011-04-18 to 2011-05-24.\n"
     ]
    }
   ],
   "source": [
    "dates = {}\n",
    "dates = [str(time)[:10] for time in house1.Time.values]\n",
    "dates = sorted(list(set(dates)))\n",
    "print('House {0} data contain {1} days from {2} to {3}.'.format(1,len(dates),dates[0], dates[-1]))"
   ]
  },
  {
   "cell_type": "code",
   "execution_count": 800,
   "id": "804edb04",
   "metadata": {},
   "outputs": [
    {
     "data": {
      "text/html": [
       "<div>\n",
       "<style scoped>\n",
       "    .dataframe tbody tr th:only-of-type {\n",
       "        vertical-align: middle;\n",
       "    }\n",
       "\n",
       "    .dataframe tbody tr th {\n",
       "        vertical-align: top;\n",
       "    }\n",
       "\n",
       "    .dataframe thead th {\n",
       "        text-align: right;\n",
       "    }\n",
       "</style>\n",
       "<table border=\"1\" class=\"dataframe\">\n",
       "  <thead>\n",
       "    <tr style=\"text-align: right;\">\n",
       "      <th></th>\n",
       "      <th>Time</th>\n",
       "      <th>refrigerator_3</th>\n",
       "      <th>dishwaser_4</th>\n",
       "      <th>microwave_7</th>\n",
       "      <th>washer_dryer</th>\n",
       "      <th>mains</th>\n",
       "    </tr>\n",
       "  </thead>\n",
       "  <tbody>\n",
       "    <tr>\n",
       "      <th>0</th>\n",
       "      <td>2011-04-16 05:11:30</td>\n",
       "      <td>119.0</td>\n",
       "      <td>0.0</td>\n",
       "      <td>2.0</td>\n",
       "      <td>0.0</td>\n",
       "      <td>758.64</td>\n",
       "    </tr>\n",
       "    <tr>\n",
       "      <th>1</th>\n",
       "      <td>2011-04-16 05:11:33</td>\n",
       "      <td>118.0</td>\n",
       "      <td>1.0</td>\n",
       "      <td>2.0</td>\n",
       "      <td>0.0</td>\n",
       "      <td>758.13</td>\n",
       "    </tr>\n",
       "    <tr>\n",
       "      <th>2</th>\n",
       "      <td>2011-04-16 05:11:36</td>\n",
       "      <td>119.0</td>\n",
       "      <td>0.0</td>\n",
       "      <td>2.0</td>\n",
       "      <td>0.0</td>\n",
       "      <td>759.88</td>\n",
       "    </tr>\n",
       "    <tr>\n",
       "      <th>3</th>\n",
       "      <td>2011-04-16 05:11:40</td>\n",
       "      <td>119.0</td>\n",
       "      <td>1.0</td>\n",
       "      <td>2.0</td>\n",
       "      <td>0.0</td>\n",
       "      <td>759.88</td>\n",
       "    </tr>\n",
       "    <tr>\n",
       "      <th>4</th>\n",
       "      <td>2011-04-16 05:11:43</td>\n",
       "      <td>117.0</td>\n",
       "      <td>0.0</td>\n",
       "      <td>2.0</td>\n",
       "      <td>0.0</td>\n",
       "      <td>755.87</td>\n",
       "    </tr>\n",
       "    <tr>\n",
       "      <th>...</th>\n",
       "      <td>...</td>\n",
       "      <td>...</td>\n",
       "      <td>...</td>\n",
       "      <td>...</td>\n",
       "      <td>...</td>\n",
       "      <td>...</td>\n",
       "    </tr>\n",
       "    <tr>\n",
       "      <th>376145</th>\n",
       "      <td>2011-05-31 00:19:23</td>\n",
       "      <td>8.0</td>\n",
       "      <td>3.0</td>\n",
       "      <td>1.0</td>\n",
       "      <td>0.0</td>\n",
       "      <td>17.70</td>\n",
       "    </tr>\n",
       "    <tr>\n",
       "      <th>376146</th>\n",
       "      <td>2011-05-31 00:19:26</td>\n",
       "      <td>8.0</td>\n",
       "      <td>3.0</td>\n",
       "      <td>2.0</td>\n",
       "      <td>0.0</td>\n",
       "      <td>17.71</td>\n",
       "    </tr>\n",
       "    <tr>\n",
       "      <th>376147</th>\n",
       "      <td>2011-05-31 00:19:30</td>\n",
       "      <td>8.0</td>\n",
       "      <td>3.0</td>\n",
       "      <td>2.0</td>\n",
       "      <td>0.0</td>\n",
       "      <td>17.68</td>\n",
       "    </tr>\n",
       "    <tr>\n",
       "      <th>376148</th>\n",
       "      <td>2011-05-31 00:19:33</td>\n",
       "      <td>8.0</td>\n",
       "      <td>3.0</td>\n",
       "      <td>2.0</td>\n",
       "      <td>0.0</td>\n",
       "      <td>17.65</td>\n",
       "    </tr>\n",
       "    <tr>\n",
       "      <th>376149</th>\n",
       "      <td>2011-05-31 00:19:36</td>\n",
       "      <td>7.0</td>\n",
       "      <td>3.0</td>\n",
       "      <td>2.0</td>\n",
       "      <td>0.0</td>\n",
       "      <td>17.67</td>\n",
       "    </tr>\n",
       "  </tbody>\n",
       "</table>\n",
       "<p>376150 rows × 6 columns</p>\n",
       "</div>"
      ],
      "text/plain": [
       "                       Time  refrigerator_3  dishwaser_4  microwave_7  \\\n",
       "0       2011-04-16 05:11:30           119.0          0.0          2.0   \n",
       "1       2011-04-16 05:11:33           118.0          1.0          2.0   \n",
       "2       2011-04-16 05:11:36           119.0          0.0          2.0   \n",
       "3       2011-04-16 05:11:40           119.0          1.0          2.0   \n",
       "4       2011-04-16 05:11:43           117.0          0.0          2.0   \n",
       "...                     ...             ...          ...          ...   \n",
       "376145  2011-05-31 00:19:23             8.0          3.0          1.0   \n",
       "376146  2011-05-31 00:19:26             8.0          3.0          2.0   \n",
       "376147  2011-05-31 00:19:30             8.0          3.0          2.0   \n",
       "376148  2011-05-31 00:19:33             8.0          3.0          2.0   \n",
       "376149  2011-05-31 00:19:36             7.0          3.0          2.0   \n",
       "\n",
       "        washer_dryer   mains  \n",
       "0                0.0  758.64  \n",
       "1                0.0  758.13  \n",
       "2                0.0  759.88  \n",
       "3                0.0  759.88  \n",
       "4                0.0  755.87  \n",
       "...              ...     ...  \n",
       "376145           0.0   17.70  \n",
       "376146           0.0   17.71  \n",
       "376147           0.0   17.68  \n",
       "376148           0.0   17.65  \n",
       "376149           0.0   17.67  \n",
       "\n",
       "[376150 rows x 6 columns]"
      ]
     },
     "execution_count": 800,
     "metadata": {},
     "output_type": "execute_result"
    }
   ],
   "source": [
    "house3['washer_dryer'] = house3['washer_dryer_5'] + house3['washer_dryer_6']\n",
    "house3['mains'] = house3['mains_2'] + house3['mains_1']\n",
    "del house3['washer_dryer_5']\n",
    "del house3['washer_dryer_6']\n",
    "del house3['mains_1']\n",
    "del house3['mains_2']\n",
    "house3"
   ]
  },
  {
   "cell_type": "code",
   "execution_count": 801,
   "id": "feb55936",
   "metadata": {},
   "outputs": [],
   "source": [
    "from sklearn.cluster import KMeans"
   ]
  },
  {
   "cell_type": "code",
   "execution_count": 802,
   "id": "aafb84e2",
   "metadata": {},
   "outputs": [
    {
     "data": {
      "text/html": [
       "<div>\n",
       "<style scoped>\n",
       "    .dataframe tbody tr th:only-of-type {\n",
       "        vertical-align: middle;\n",
       "    }\n",
       "\n",
       "    .dataframe tbody tr th {\n",
       "        vertical-align: top;\n",
       "    }\n",
       "\n",
       "    .dataframe thead th {\n",
       "        text-align: right;\n",
       "    }\n",
       "</style>\n",
       "<table border=\"1\" class=\"dataframe\">\n",
       "  <thead>\n",
       "    <tr style=\"text-align: right;\">\n",
       "      <th></th>\n",
       "      <th>refrigerator_3</th>\n",
       "      <th>dishwaser_4</th>\n",
       "      <th>microwave_7</th>\n",
       "      <th>washer_dryer</th>\n",
       "      <th>mains</th>\n",
       "    </tr>\n",
       "  </thead>\n",
       "  <tbody>\n",
       "    <tr>\n",
       "      <th>count</th>\n",
       "      <td>376150.000000</td>\n",
       "      <td>376150.000000</td>\n",
       "      <td>376150.000000</td>\n",
       "      <td>376150.000000</td>\n",
       "      <td>376150.000000</td>\n",
       "    </tr>\n",
       "    <tr>\n",
       "      <th>mean</th>\n",
       "      <td>47.659705</td>\n",
       "      <td>7.365479</td>\n",
       "      <td>8.422329</td>\n",
       "      <td>81.368424</td>\n",
       "      <td>445.189291</td>\n",
       "    </tr>\n",
       "    <tr>\n",
       "      <th>std</th>\n",
       "      <td>68.182648</td>\n",
       "      <td>65.860263</td>\n",
       "      <td>102.046689</td>\n",
       "      <td>592.545013</td>\n",
       "      <td>731.694496</td>\n",
       "    </tr>\n",
       "    <tr>\n",
       "      <th>min</th>\n",
       "      <td>0.000000</td>\n",
       "      <td>0.000000</td>\n",
       "      <td>0.000000</td>\n",
       "      <td>0.000000</td>\n",
       "      <td>1.400000</td>\n",
       "    </tr>\n",
       "    <tr>\n",
       "      <th>25%</th>\n",
       "      <td>0.000000</td>\n",
       "      <td>1.000000</td>\n",
       "      <td>2.000000</td>\n",
       "      <td>0.000000</td>\n",
       "      <td>142.430000</td>\n",
       "    </tr>\n",
       "    <tr>\n",
       "      <th>50%</th>\n",
       "      <td>1.000000</td>\n",
       "      <td>1.000000</td>\n",
       "      <td>2.000000</td>\n",
       "      <td>0.000000</td>\n",
       "      <td>252.140000</td>\n",
       "    </tr>\n",
       "    <tr>\n",
       "      <th>75%</th>\n",
       "      <td>116.000000</td>\n",
       "      <td>1.000000</td>\n",
       "      <td>2.000000</td>\n",
       "      <td>0.000000</td>\n",
       "      <td>453.980000</td>\n",
       "    </tr>\n",
       "    <tr>\n",
       "      <th>max</th>\n",
       "      <td>1582.000000</td>\n",
       "      <td>786.000000</td>\n",
       "      <td>1817.000000</td>\n",
       "      <td>5660.000000</td>\n",
       "      <td>8059.920000</td>\n",
       "    </tr>\n",
       "  </tbody>\n",
       "</table>\n",
       "</div>"
      ],
      "text/plain": [
       "       refrigerator_3    dishwaser_4    microwave_7   washer_dryer  \\\n",
       "count   376150.000000  376150.000000  376150.000000  376150.000000   \n",
       "mean        47.659705       7.365479       8.422329      81.368424   \n",
       "std         68.182648      65.860263     102.046689     592.545013   \n",
       "min          0.000000       0.000000       0.000000       0.000000   \n",
       "25%          0.000000       1.000000       2.000000       0.000000   \n",
       "50%          1.000000       1.000000       2.000000       0.000000   \n",
       "75%        116.000000       1.000000       2.000000       0.000000   \n",
       "max       1582.000000     786.000000    1817.000000    5660.000000   \n",
       "\n",
       "               mains  \n",
       "count  376150.000000  \n",
       "mean      445.189291  \n",
       "std       731.694496  \n",
       "min         1.400000  \n",
       "25%       142.430000  \n",
       "50%       252.140000  \n",
       "75%       453.980000  \n",
       "max      8059.920000  "
      ]
     },
     "execution_count": 802,
     "metadata": {},
     "output_type": "execute_result"
    }
   ],
   "source": [
    "house3.describe()"
   ]
  },
  {
   "cell_type": "markdown",
   "id": "a391ded0",
   "metadata": {},
   "source": [
    "### Fridge"
   ]
  },
  {
   "cell_type": "code",
   "execution_count": 803,
   "id": "bf847111",
   "metadata": {},
   "outputs": [],
   "source": [
    "fridge = house3['refrigerator_3']\n",
    "fridge = pd.DataFrame(fridge)"
   ]
  },
  {
   "cell_type": "code",
   "execution_count": 804,
   "id": "74acad3e",
   "metadata": {},
   "outputs": [
    {
     "data": {
      "text/plain": [
       "KMeans(n_clusters=2)"
      ]
     },
     "execution_count": 804,
     "metadata": {},
     "output_type": "execute_result"
    }
   ],
   "source": [
    "km = KMeans(n_clusters=2)\n",
    "km.fit(fridge)"
   ]
  },
  {
   "cell_type": "code",
   "execution_count": 805,
   "id": "9993ca2f",
   "metadata": {},
   "outputs": [
    {
     "data": {
      "text/plain": [
       "array([[126.49792431],\n",
       "       [  0.43144457]])"
      ]
     },
     "execution_count": 805,
     "metadata": {},
     "output_type": "execute_result"
    }
   ],
   "source": [
    "centroids  = km.cluster_centers_\n",
    "cent_fridge=centroids\n",
    "cent_fridge"
   ]
  },
  {
   "cell_type": "code",
   "execution_count": 806,
   "id": "92d73676",
   "metadata": {
    "scrolled": true
   },
   "outputs": [],
   "source": [
    "labels = km.labels_\n",
    "labels = pd.DataFrame (labels, columns = ['fridge_label'])\n",
    "\n",
    "dummy = house3\n",
    "dummy = dummy.join(labels)\n",
    "\n",
    "test = dummy[['refrigerator_3','fridge_label']] \n",
    "\n",
    "on = test[test['fridge_label'] == 1] ## on status\n",
    "on = on['refrigerator_3'].std() \n",
    "\n",
    "off = test[test['fridge_label'] == 0] ## on status\n",
    "off = off['refrigerator_3'].std() "
   ]
  },
  {
   "cell_type": "code",
   "execution_count": 807,
   "id": "4adbacd8",
   "metadata": {},
   "outputs": [],
   "source": [
    "d = off/(on+off)\n",
    "lambda_fridge = ((1.0-d)*(cent_fridge[0]))+(d*cent_fridge[1])"
   ]
  },
  {
   "cell_type": "markdown",
   "id": "6b31e52e",
   "metadata": {},
   "source": [
    "### Dishwasher (DW)"
   ]
  },
  {
   "cell_type": "code",
   "execution_count": 808,
   "id": "83c43bc2",
   "metadata": {},
   "outputs": [],
   "source": [
    "dw = house3['dishwaser_4']\n",
    "dw = pd.DataFrame(dw)"
   ]
  },
  {
   "cell_type": "code",
   "execution_count": 809,
   "id": "7314b911",
   "metadata": {},
   "outputs": [
    {
     "data": {
      "text/plain": [
       "KMeans(n_clusters=2)"
      ]
     },
     "execution_count": 809,
     "metadata": {},
     "output_type": "execute_result"
    }
   ],
   "source": [
    "km = KMeans(n_clusters=2)\n",
    "km.fit(dw)"
   ]
  },
  {
   "cell_type": "code",
   "execution_count": 810,
   "id": "73eb09f6",
   "metadata": {},
   "outputs": [
    {
     "data": {
      "text/plain": [
       "array([[  1.62862425],\n",
       "       [736.86473595]])"
      ]
     },
     "execution_count": 810,
     "metadata": {},
     "output_type": "execute_result"
    }
   ],
   "source": [
    "centroids  = km.cluster_centers_\n",
    "cent_dw=centroids\n",
    "cent_dw"
   ]
  },
  {
   "cell_type": "code",
   "execution_count": 811,
   "id": "53561406",
   "metadata": {},
   "outputs": [],
   "source": [
    "labels = km.labels_\n",
    "labels = pd.DataFrame (labels, columns = ['dw_label'])\n",
    "\n",
    "dummy = house3\n",
    "dummy = dummy.join(labels)\n",
    "\n",
    "test = dummy[['dishwaser_4','dw_label']] \n",
    "\n",
    "on = test[test['dw_label'] == 1] ## on status\n",
    "on = on['dishwaser_4'].std() \n",
    "\n",
    "off = test[test['dw_label'] == 0] ## on status\n",
    "off = off['dishwaser_4'].std() "
   ]
  },
  {
   "cell_type": "code",
   "execution_count": 812,
   "id": "674db638",
   "metadata": {},
   "outputs": [],
   "source": [
    "d = off/(on+off)\n",
    "lambda_dw = ((1.0-d)*(cent_dw[0]))+(d*cent_dw[1])"
   ]
  },
  {
   "cell_type": "markdown",
   "id": "eeaaf008",
   "metadata": {},
   "source": [
    "### Microwave (MW)"
   ]
  },
  {
   "cell_type": "code",
   "execution_count": 813,
   "id": "57a1c573",
   "metadata": {},
   "outputs": [],
   "source": [
    "mw = house3['microwave_7']\n",
    "mw = pd.DataFrame(mw)"
   ]
  },
  {
   "cell_type": "code",
   "execution_count": 814,
   "id": "3fe4691d",
   "metadata": {},
   "outputs": [
    {
     "data": {
      "text/plain": [
       "KMeans(n_clusters=2)"
      ]
     },
     "execution_count": 814,
     "metadata": {},
     "output_type": "execute_result"
    }
   ],
   "source": [
    "km = KMeans(n_clusters=2)\n",
    "km.fit(mw)"
   ]
  },
  {
   "cell_type": "code",
   "execution_count": 815,
   "id": "208080f1",
   "metadata": {},
   "outputs": [
    {
     "data": {
      "text/plain": [
       "array([[   2.36282749],\n",
       "       [1716.10827068]])"
      ]
     },
     "execution_count": 815,
     "metadata": {},
     "output_type": "execute_result"
    }
   ],
   "source": [
    "centroids  = km.cluster_centers_\n",
    "cent_mw=centroids\n",
    "cent_mw"
   ]
  },
  {
   "cell_type": "code",
   "execution_count": 816,
   "id": "8dce14e9",
   "metadata": {},
   "outputs": [],
   "source": [
    "labels = km.labels_\n",
    "labels = pd.DataFrame (labels, columns = ['mw_label'])\n",
    "\n",
    "dummy = house3\n",
    "dummy = dummy.join(labels)\n",
    "\n",
    "test = dummy[['microwave_7','mw_label']] \n",
    "\n",
    "on = test[test['mw_label'] == 1] ## on status\n",
    "on = on['microwave_7'].std() \n",
    "\n",
    "off = test[test['mw_label'] == 0] ## on status\n",
    "off = off['microwave_7'].std() "
   ]
  },
  {
   "cell_type": "code",
   "execution_count": 817,
   "id": "bb4f3c14",
   "metadata": {},
   "outputs": [],
   "source": [
    "d = off/(on+off)\n",
    "lambda_mw = ((1.0-d)*(cent_mw[0]))+(d*cent_mw[1])"
   ]
  },
  {
   "cell_type": "markdown",
   "id": "901c0675",
   "metadata": {},
   "source": [
    "### Washer Dryer"
   ]
  },
  {
   "cell_type": "code",
   "execution_count": 818,
   "id": "78808231",
   "metadata": {},
   "outputs": [],
   "source": [
    "wd = house3['washer_dryer']\n",
    "wd = pd.DataFrame(wd)"
   ]
  },
  {
   "cell_type": "code",
   "execution_count": 819,
   "id": "4c8c8731",
   "metadata": {},
   "outputs": [
    {
     "data": {
      "text/plain": [
       "KMeans(n_clusters=2)"
      ]
     },
     "execution_count": 819,
     "metadata": {},
     "output_type": "execute_result"
    }
   ],
   "source": [
    "km = KMeans(n_clusters=2)\n",
    "km.fit(wd)"
   ]
  },
  {
   "cell_type": "code",
   "execution_count": 820,
   "id": "1e1db4b2",
   "metadata": {},
   "outputs": [
    {
     "data": {
      "text/plain": [
       "array([[   7.13361149],\n",
       "       [4772.22312287]])"
      ]
     },
     "execution_count": 820,
     "metadata": {},
     "output_type": "execute_result"
    }
   ],
   "source": [
    "centroids  = km.cluster_centers_\n",
    "cent_wd=centroids\n",
    "cent_wd"
   ]
  },
  {
   "cell_type": "code",
   "execution_count": 821,
   "id": "6243baf0",
   "metadata": {},
   "outputs": [],
   "source": [
    "labels = km.labels_\n",
    "labels = pd.DataFrame (labels, columns = ['wd_label'])\n",
    "\n",
    "dummy = house3\n",
    "dummy = dummy.join(labels)\n",
    "\n",
    "test = dummy[['washer_dryer','wd_label']] \n",
    "\n",
    "on = test[test['wd_label'] == 1] ## on status\n",
    "on = on['washer_dryer'].std() \n",
    "\n",
    "off = test[test['wd_label'] == 0] ## off status\n",
    "off = off['washer_dryer'].std() "
   ]
  },
  {
   "cell_type": "code",
   "execution_count": 822,
   "id": "61d588af",
   "metadata": {},
   "outputs": [],
   "source": [
    "d = off/(on+off)\n",
    "lambda_wd = ((1.0-d)*(cent_wd[0]))+(d*cent_wd[1])"
   ]
  },
  {
   "cell_type": "markdown",
   "id": "db8fca94",
   "metadata": {},
   "source": [
    "## Adding Appliance Status to the Dataframe"
   ]
  },
  {
   "cell_type": "code",
   "execution_count": 823,
   "id": "2891dd13",
   "metadata": {},
   "outputs": [
    {
     "data": {
      "text/plain": [
       "0         1\n",
       "1         1\n",
       "2         1\n",
       "3         1\n",
       "4         1\n",
       "         ..\n",
       "376145    1\n",
       "376146    1\n",
       "376147    1\n",
       "376148    1\n",
       "376149    1\n",
       "Name: fridge_stat, Length: 376150, dtype: int64"
      ]
     },
     "execution_count": 823,
     "metadata": {},
     "output_type": "execute_result"
    }
   ],
   "source": [
    "house3['fridge_stats'] = house3['refrigerator_3'] - lambda_fridge\n",
    "house3['fridge_stat'] = [1 if x >= 0 else 0 for x in house3['fridge_stats']]\n",
    "house3.fridge_stat"
   ]
  },
  {
   "cell_type": "code",
   "execution_count": 824,
   "id": "fef20c77",
   "metadata": {},
   "outputs": [
    {
     "data": {
      "text/plain": [
       "0         0\n",
       "1         0\n",
       "2         0\n",
       "3         0\n",
       "4         0\n",
       "         ..\n",
       "376145    0\n",
       "376146    0\n",
       "376147    0\n",
       "376148    0\n",
       "376149    0\n",
       "Name: dishwasher_stat, Length: 376150, dtype: int64"
      ]
     },
     "execution_count": 824,
     "metadata": {},
     "output_type": "execute_result"
    }
   ],
   "source": [
    "house3['dishwasher_stats'] = house3['dishwaser_4'] - lambda_dw\n",
    "house3['dishwasher_stat'] = [1 if x >= 0 else 0 for x in house3['dishwasher_stats']]\n",
    "house3.dishwasher_stat"
   ]
  },
  {
   "cell_type": "code",
   "execution_count": 825,
   "id": "5184b631",
   "metadata": {},
   "outputs": [
    {
     "data": {
      "text/plain": [
       "0         0\n",
       "1         0\n",
       "2         0\n",
       "3         0\n",
       "4         0\n",
       "         ..\n",
       "376145    0\n",
       "376146    0\n",
       "376147    0\n",
       "376148    0\n",
       "376149    0\n",
       "Name: microwave_stat, Length: 376150, dtype: int64"
      ]
     },
     "execution_count": 825,
     "metadata": {},
     "output_type": "execute_result"
    }
   ],
   "source": [
    "house3['microwave_stats'] = house3['microwave_7'] - lambda_mw\n",
    "house3['microwave_stat'] = [1 if x >= 0 else 0 for x in house3['microwave_stats']]\n",
    "house3.microwave_stat"
   ]
  },
  {
   "cell_type": "code",
   "execution_count": 826,
   "id": "25406b99",
   "metadata": {},
   "outputs": [
    {
     "data": {
      "text/plain": [
       "0         0\n",
       "1         0\n",
       "2         0\n",
       "3         0\n",
       "4         0\n",
       "         ..\n",
       "376145    0\n",
       "376146    0\n",
       "376147    0\n",
       "376148    0\n",
       "376149    0\n",
       "Name: washerdryer_stat, Length: 376150, dtype: int64"
      ]
     },
     "execution_count": 826,
     "metadata": {},
     "output_type": "execute_result"
    }
   ],
   "source": [
    "house3['washerdryer_stats'] = house3['washer_dryer'] - lambda_wd\n",
    "house3['washerdryer_stat'] = [1 if x >= 0 else 0 for x in house3['washerdryer_stats']]\n",
    "house3.washerdryer_stat"
   ]
  },
  {
   "cell_type": "code",
   "execution_count": 827,
   "id": "fd1f6f60",
   "metadata": {},
   "outputs": [],
   "source": [
    "del house3['fridge_stats']\n",
    "del house3['dishwasher_stats']\n",
    "del house3['microwave_stats']\n",
    "del house3['washerdryer_stats']\n",
    "\n",
    "del house3['refrigerator_3']\n",
    "del house3['dishwaser_4']\n",
    "del house3['microwave_7']\n",
    "del house3['washer_dryer']"
   ]
  },
  {
   "cell_type": "code",
   "execution_count": 828,
   "id": "f6c66dbf",
   "metadata": {},
   "outputs": [
    {
     "data": {
      "text/html": [
       "<div>\n",
       "<style scoped>\n",
       "    .dataframe tbody tr th:only-of-type {\n",
       "        vertical-align: middle;\n",
       "    }\n",
       "\n",
       "    .dataframe tbody tr th {\n",
       "        vertical-align: top;\n",
       "    }\n",
       "\n",
       "    .dataframe thead th {\n",
       "        text-align: right;\n",
       "    }\n",
       "</style>\n",
       "<table border=\"1\" class=\"dataframe\">\n",
       "  <thead>\n",
       "    <tr style=\"text-align: right;\">\n",
       "      <th></th>\n",
       "      <th>Time</th>\n",
       "      <th>mains</th>\n",
       "      <th>fridge_stat</th>\n",
       "      <th>dishwasher_stat</th>\n",
       "      <th>microwave_stat</th>\n",
       "      <th>washerdryer_stat</th>\n",
       "    </tr>\n",
       "  </thead>\n",
       "  <tbody>\n",
       "    <tr>\n",
       "      <th>0</th>\n",
       "      <td>2011-04-16 05:11:30</td>\n",
       "      <td>758.64</td>\n",
       "      <td>1</td>\n",
       "      <td>0</td>\n",
       "      <td>0</td>\n",
       "      <td>0</td>\n",
       "    </tr>\n",
       "    <tr>\n",
       "      <th>1</th>\n",
       "      <td>2011-04-16 05:11:33</td>\n",
       "      <td>758.13</td>\n",
       "      <td>1</td>\n",
       "      <td>0</td>\n",
       "      <td>0</td>\n",
       "      <td>0</td>\n",
       "    </tr>\n",
       "    <tr>\n",
       "      <th>2</th>\n",
       "      <td>2011-04-16 05:11:36</td>\n",
       "      <td>759.88</td>\n",
       "      <td>1</td>\n",
       "      <td>0</td>\n",
       "      <td>0</td>\n",
       "      <td>0</td>\n",
       "    </tr>\n",
       "    <tr>\n",
       "      <th>3</th>\n",
       "      <td>2011-04-16 05:11:40</td>\n",
       "      <td>759.88</td>\n",
       "      <td>1</td>\n",
       "      <td>0</td>\n",
       "      <td>0</td>\n",
       "      <td>0</td>\n",
       "    </tr>\n",
       "    <tr>\n",
       "      <th>4</th>\n",
       "      <td>2011-04-16 05:11:43</td>\n",
       "      <td>755.87</td>\n",
       "      <td>1</td>\n",
       "      <td>0</td>\n",
       "      <td>0</td>\n",
       "      <td>0</td>\n",
       "    </tr>\n",
       "    <tr>\n",
       "      <th>...</th>\n",
       "      <td>...</td>\n",
       "      <td>...</td>\n",
       "      <td>...</td>\n",
       "      <td>...</td>\n",
       "      <td>...</td>\n",
       "      <td>...</td>\n",
       "    </tr>\n",
       "    <tr>\n",
       "      <th>376145</th>\n",
       "      <td>2011-05-31 00:19:23</td>\n",
       "      <td>17.70</td>\n",
       "      <td>1</td>\n",
       "      <td>0</td>\n",
       "      <td>0</td>\n",
       "      <td>0</td>\n",
       "    </tr>\n",
       "    <tr>\n",
       "      <th>376146</th>\n",
       "      <td>2011-05-31 00:19:26</td>\n",
       "      <td>17.71</td>\n",
       "      <td>1</td>\n",
       "      <td>0</td>\n",
       "      <td>0</td>\n",
       "      <td>0</td>\n",
       "    </tr>\n",
       "    <tr>\n",
       "      <th>376147</th>\n",
       "      <td>2011-05-31 00:19:30</td>\n",
       "      <td>17.68</td>\n",
       "      <td>1</td>\n",
       "      <td>0</td>\n",
       "      <td>0</td>\n",
       "      <td>0</td>\n",
       "    </tr>\n",
       "    <tr>\n",
       "      <th>376148</th>\n",
       "      <td>2011-05-31 00:19:33</td>\n",
       "      <td>17.65</td>\n",
       "      <td>1</td>\n",
       "      <td>0</td>\n",
       "      <td>0</td>\n",
       "      <td>0</td>\n",
       "    </tr>\n",
       "    <tr>\n",
       "      <th>376149</th>\n",
       "      <td>2011-05-31 00:19:36</td>\n",
       "      <td>17.67</td>\n",
       "      <td>1</td>\n",
       "      <td>0</td>\n",
       "      <td>0</td>\n",
       "      <td>0</td>\n",
       "    </tr>\n",
       "  </tbody>\n",
       "</table>\n",
       "<p>376150 rows × 6 columns</p>\n",
       "</div>"
      ],
      "text/plain": [
       "                       Time   mains  fridge_stat  dishwasher_stat  \\\n",
       "0       2011-04-16 05:11:30  758.64            1                0   \n",
       "1       2011-04-16 05:11:33  758.13            1                0   \n",
       "2       2011-04-16 05:11:36  759.88            1                0   \n",
       "3       2011-04-16 05:11:40  759.88            1                0   \n",
       "4       2011-04-16 05:11:43  755.87            1                0   \n",
       "...                     ...     ...          ...              ...   \n",
       "376145  2011-05-31 00:19:23   17.70            1                0   \n",
       "376146  2011-05-31 00:19:26   17.71            1                0   \n",
       "376147  2011-05-31 00:19:30   17.68            1                0   \n",
       "376148  2011-05-31 00:19:33   17.65            1                0   \n",
       "376149  2011-05-31 00:19:36   17.67            1                0   \n",
       "\n",
       "        microwave_stat  washerdryer_stat  \n",
       "0                    0                 0  \n",
       "1                    0                 0  \n",
       "2                    0                 0  \n",
       "3                    0                 0  \n",
       "4                    0                 0  \n",
       "...                ...               ...  \n",
       "376145               0                 0  \n",
       "376146               0                 0  \n",
       "376147               0                 0  \n",
       "376148               0                 0  \n",
       "376149               0                 0  \n",
       "\n",
       "[376150 rows x 6 columns]"
      ]
     },
     "execution_count": 828,
     "metadata": {},
     "output_type": "execute_result"
    }
   ],
   "source": [
    "house3"
   ]
  },
  {
   "cell_type": "code",
   "execution_count": 829,
   "id": "9de1cd76",
   "metadata": {},
   "outputs": [
    {
     "data": {
      "text/html": [
       "<div>\n",
       "<style scoped>\n",
       "    .dataframe tbody tr th:only-of-type {\n",
       "        vertical-align: middle;\n",
       "    }\n",
       "\n",
       "    .dataframe tbody tr th {\n",
       "        vertical-align: top;\n",
       "    }\n",
       "\n",
       "    .dataframe thead th {\n",
       "        text-align: right;\n",
       "    }\n",
       "</style>\n",
       "<table border=\"1\" class=\"dataframe\">\n",
       "  <thead>\n",
       "    <tr style=\"text-align: right;\">\n",
       "      <th></th>\n",
       "      <th>mains</th>\n",
       "      <th>fridge_stat</th>\n",
       "      <th>dishwasher_stat</th>\n",
       "      <th>microwave_stat</th>\n",
       "      <th>washerdryer_stat</th>\n",
       "    </tr>\n",
       "  </thead>\n",
       "  <tbody>\n",
       "    <tr>\n",
       "      <th>count</th>\n",
       "      <td>376150.000000</td>\n",
       "      <td>376150.000000</td>\n",
       "      <td>376150.000000</td>\n",
       "      <td>376150.000000</td>\n",
       "      <td>376150.000000</td>\n",
       "    </tr>\n",
       "    <tr>\n",
       "      <th>mean</th>\n",
       "      <td>445.189291</td>\n",
       "      <td>0.377230</td>\n",
       "      <td>0.007803</td>\n",
       "      <td>0.003693</td>\n",
       "      <td>0.015595</td>\n",
       "    </tr>\n",
       "    <tr>\n",
       "      <th>std</th>\n",
       "      <td>731.694496</td>\n",
       "      <td>0.484694</td>\n",
       "      <td>0.087988</td>\n",
       "      <td>0.060655</td>\n",
       "      <td>0.123902</td>\n",
       "    </tr>\n",
       "    <tr>\n",
       "      <th>min</th>\n",
       "      <td>1.400000</td>\n",
       "      <td>0.000000</td>\n",
       "      <td>0.000000</td>\n",
       "      <td>0.000000</td>\n",
       "      <td>0.000000</td>\n",
       "    </tr>\n",
       "    <tr>\n",
       "      <th>25%</th>\n",
       "      <td>142.430000</td>\n",
       "      <td>0.000000</td>\n",
       "      <td>0.000000</td>\n",
       "      <td>0.000000</td>\n",
       "      <td>0.000000</td>\n",
       "    </tr>\n",
       "    <tr>\n",
       "      <th>50%</th>\n",
       "      <td>252.140000</td>\n",
       "      <td>0.000000</td>\n",
       "      <td>0.000000</td>\n",
       "      <td>0.000000</td>\n",
       "      <td>0.000000</td>\n",
       "    </tr>\n",
       "    <tr>\n",
       "      <th>75%</th>\n",
       "      <td>453.980000</td>\n",
       "      <td>1.000000</td>\n",
       "      <td>0.000000</td>\n",
       "      <td>0.000000</td>\n",
       "      <td>0.000000</td>\n",
       "    </tr>\n",
       "    <tr>\n",
       "      <th>max</th>\n",
       "      <td>8059.920000</td>\n",
       "      <td>1.000000</td>\n",
       "      <td>1.000000</td>\n",
       "      <td>1.000000</td>\n",
       "      <td>1.000000</td>\n",
       "    </tr>\n",
       "  </tbody>\n",
       "</table>\n",
       "</div>"
      ],
      "text/plain": [
       "               mains    fridge_stat  dishwasher_stat  microwave_stat  \\\n",
       "count  376150.000000  376150.000000    376150.000000   376150.000000   \n",
       "mean      445.189291       0.377230         0.007803        0.003693   \n",
       "std       731.694496       0.484694         0.087988        0.060655   \n",
       "min         1.400000       0.000000         0.000000        0.000000   \n",
       "25%       142.430000       0.000000         0.000000        0.000000   \n",
       "50%       252.140000       0.000000         0.000000        0.000000   \n",
       "75%       453.980000       1.000000         0.000000        0.000000   \n",
       "max      8059.920000       1.000000         1.000000        1.000000   \n",
       "\n",
       "       washerdryer_stat  \n",
       "count     376150.000000  \n",
       "mean           0.015595  \n",
       "std            0.123902  \n",
       "min            0.000000  \n",
       "25%            0.000000  \n",
       "50%            0.000000  \n",
       "75%            0.000000  \n",
       "max            1.000000  "
      ]
     },
     "execution_count": 829,
     "metadata": {},
     "output_type": "execute_result"
    }
   ],
   "source": [
    "house3.describe()"
   ]
  },
  {
   "cell_type": "code",
   "execution_count": 830,
   "id": "fae15799",
   "metadata": {},
   "outputs": [],
   "source": [
    "ddf = house3.reset_index() # same as df.reset_index(level=0)\n",
    "ddf.to_csv('House3 with operational status.csv', index = False) # this is for house 1 of the low frequency REDD dataset"
   ]
  }
 ],
 "metadata": {
  "kernelspec": {
   "display_name": "Python 3 (ipykernel)",
   "language": "python",
   "name": "python3"
  },
  "language_info": {
   "codemirror_mode": {
    "name": "ipython",
    "version": 3
   },
   "file_extension": ".py",
   "mimetype": "text/x-python",
   "name": "python",
   "nbconvert_exporter": "python",
   "pygments_lexer": "ipython3",
   "version": "3.9.13"
  }
 },
 "nbformat": 4,
 "nbformat_minor": 5
}
